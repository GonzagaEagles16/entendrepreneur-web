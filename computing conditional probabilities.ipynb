{
 "cells": [
  {
   "cell_type": "markdown",
   "metadata": {},
   "source": [
    "For a given word, for a given grapheme/phoneme pair, what is the probability (assuming uniform probility over all words in the vocabulary) that that word in question would have been chosen, given the word length, i.e.\n",
    "\n",
    "$p(w=w_0\\ |\\ g_{0i}=g_i,...,g_{0n}=g_n,\\ p_{0j}=p_j,...,p_{0m}=p_m,\\ |w|=N)$"
   ]
  },
  {
   "cell_type": "code",
   "execution_count": 1,
   "metadata": {},
   "outputs": [],
   "source": [
    "# What exact are these being used for? Two distinct tasks\n",
    "# 1) ability to reconstruct word given the partial piece left over in a portmanteau\n",
    "# 2) requiring that the subsets of the word(s) being used in the portmanteaus/rhymes\n",
    "\n",
    "# Unclear if conditioning on the word length is the correct course of action\n",
    "# Unclear if"
   ]
  },
  {
   "cell_type": "code",
   "execution_count": 2,
   "metadata": {},
   "outputs": [],
   "source": [
    "from helper_utils import PronunciationDictionary\n",
    "\n",
    "cmu_dict = PronunciationDictionary.load('data/CMU_Pronounciation_Dictionary.pkl')"
   ]
  },
  {
   "cell_type": "code",
   "execution_count": 3,
   "metadata": {},
   "outputs": [
    {
     "data": {
      "text/plain": [
       "dict"
      ]
     },
     "execution_count": 3,
     "metadata": {},
     "output_type": "execute_result"
    }
   ],
   "source": [
    "type(cmu_dict.grapheme_to_alignment_dict)"
   ]
  },
  {
   "cell_type": "code",
   "execution_count": 16,
   "metadata": {},
   "outputs": [],
   "source": [
    "# count number of distinct phoneme suffixes of fixed length\n",
    "distinct_prefixes = set()\n",
    "for grapheme,alignment in cmu_dict.grapheme_to_alignment_dict.iteritems():\n",
    "    if grapheme.isalpha():\n",
    "        for i in range(5):\n",
    "            try:\n",
    "                subgrapheme = alignment.subphoneme_to_subgrapheme(0,i)\n",
    "                subphoneme = cmu_dict.grapheme_to_phoneme_dict[grapheme][:i+1]\n",
    "                subphoneme = '-'.join([filter(str.isalpha, str(x)) for x in subphoneme])\n",
    "                distinct_prefixes.add((subgrapheme,subphoneme))\n",
    "            except:\n",
    "                pass"
   ]
  },
  {
   "cell_type": "code",
   "execution_count": 17,
   "metadata": {},
   "outputs": [
    {
     "data": {
      "text/plain": [
       "'corey'"
      ]
     },
     "execution_count": 17,
     "metadata": {},
     "output_type": "execute_result"
    }
   ],
   "source": [
    "subgrapheme"
   ]
  },
  {
   "cell_type": "code",
   "execution_count": 18,
   "metadata": {},
   "outputs": [
    {
     "data": {
      "text/plain": [
       "'K-AO-R-IY'"
      ]
     },
     "execution_count": 18,
     "metadata": {},
     "output_type": "execute_result"
    }
   ],
   "source": [
    "subphoneme"
   ]
  },
  {
   "cell_type": "code",
   "execution_count": 20,
   "metadata": {},
   "outputs": [
    {
     "data": {
      "text/plain": [
       "140334"
      ]
     },
     "execution_count": 20,
     "metadata": {},
     "output_type": "execute_result"
    }
   ],
   "source": [
    "len(distinct_prefixes) # 140k distinct"
   ]
  },
  {
   "cell_type": "code",
   "execution_count": 24,
   "metadata": {},
   "outputs": [
    {
     "name": "stdout",
     "output_type": "stream",
     "text": [
      "123419\n",
      "115512\n",
      "0.935933689302\n"
     ]
    }
   ],
   "source": [
    "# 116k distinct all-alpha words\n",
    "# (123k words total)\n",
    "print len(cmu_dict.grapheme_to_alignment_dict)\n",
    "print len(filter(str.isalpha, map(str, cmu_dict.grapheme_to_alignment_dict.keys())))\n",
    "print 115512.0 / 123419"
   ]
  },
  {
   "cell_type": "code",
   "execution_count": 25,
   "metadata": {},
   "outputs": [
    {
     "data": {
      "text/plain": [
       "500"
      ]
     },
     "execution_count": 25,
     "metadata": {},
     "output_type": "execute_result"
    }
   ],
   "source": [
    "len(filter(lambda x: '-' in x, cmu_dict.grapheme_to_alignment_dict.keys()))"
   ]
  },
  {
   "cell_type": "code",
   "execution_count": 26,
   "metadata": {},
   "outputs": [
    {
     "data": {
      "text/plain": [
       "7300"
      ]
     },
     "execution_count": 26,
     "metadata": {},
     "output_type": "execute_result"
    }
   ],
   "source": [
    "len(filter(lambda x: \"'\" in x, cmu_dict.grapheme_to_alignment_dict.keys()))"
   ]
  },
  {
   "cell_type": "code",
   "execution_count": 27,
   "metadata": {},
   "outputs": [
    {
     "data": {
      "text/plain": [
       "7907"
      ]
     },
     "execution_count": 27,
     "metadata": {},
     "output_type": "execute_result"
    }
   ],
   "source": [
    "123419 - 115512\n",
    "\n",
    "# almost entirely comprised of apostraphes and hyphens..."
   ]
  },
  {
   "cell_type": "code",
   "execution_count": 43,
   "metadata": {},
   "outputs": [],
   "source": [
    "# count number of distinct phoneme suffixes of fixed length\n",
    "distinct_suffixes = set()\n",
    "for grapheme,alignment in cmu_dict.grapheme_to_alignment_dict.iteritems():\n",
    "    if grapheme.isalpha():\n",
    "        for i in range(5):\n",
    "            try:\n",
    "                phone_len = len(cmu_dict.grapheme_to_phoneme_dict[grapheme])\n",
    "                subgrapheme = alignment.subphoneme_to_subgrapheme(phone_len-1-i,phone_len-1)\n",
    "                subphoneme = cmu_dict.grapheme_to_phoneme_dict[grapheme][max(phone_len-1-i,0):]\n",
    "                subphoneme = '-'.join([filter(str.isalpha, str(x)) for x in subphoneme])\n",
    "                distinct_suffixes.add((subgrapheme,subphoneme))\n",
    "            except:\n",
    "                pass"
   ]
  },
  {
   "cell_type": "code",
   "execution_count": 44,
   "metadata": {},
   "outputs": [
    {
     "data": {
      "text/plain": [
       "141351"
      ]
     },
     "execution_count": 44,
     "metadata": {},
     "output_type": "execute_result"
    }
   ],
   "source": [
    "len(distinct_suffixes) # 366k distinct"
   ]
  },
  {
   "cell_type": "code",
   "execution_count": 45,
   "metadata": {},
   "outputs": [
    {
     "data": {
      "text/plain": [
       "[('gined', 'JH-AH-N-D'),\n",
       " ('evieve', 'AH-V-IY-V'),\n",
       " ('raisor', 'R-EY-Z-ER'),\n",
       " ('swayze', 'S-W-EY-Z'),\n",
       " ('ppealed', 'P-IY-L-D'),\n",
       " ('todeau', 'T-AH-D-OW'),\n",
       " ('terhout', 'T-ER-HH-AW-T'),\n",
       " ('dritch', 'D-R-IH-CH'),\n",
       " ('pear', 'P-IH-R'),\n",
       " ('judds', 'JH-AH-D-Z'),\n",
       " ('tprop', 'T-P-R-AO-P'),\n",
       " ('oboth', 'AA-B-AH-TH'),\n",
       " ('meachum', 'M-IY-CH-AH-M'),\n",
       " ('bear', 'B-EH-R'),\n",
       " ('zda', 'Z-D-AH'),\n",
       " ('ann', 'AH-N'),\n",
       " ('achand', 'AE-CH-AH-N-D'),\n",
       " ('amite', 'AH-M-AY-T'),\n",
       " ('emean', 'IY-M-IY-AH-N'),\n",
       " ('ssis', 'S-IY'),\n",
       " ('ea', 'IY-AH'),\n",
       " ('eeseman', 'IY-Z-M-AH-N'),\n",
       " ('cobleigh', 'K-AA-B-L-AH'),\n",
       " ('ridgers', 'R-IH-JH-ER-Z'),\n",
       " ('ersec', 'ER-S-EH-K'),\n",
       " ('ousers', 'AW-Z-ER-Z'),\n",
       " ('hubor', 'HH-Y-UW-B-ER'),\n",
       " ('alies', 'AH-L-IY-Z'),\n",
       " ('feazell', 'F-IY-Z-AH-L'),\n",
       " ('kneer', 'N-IH-R'),\n",
       " ('ldons', 'L-D-AH-N-Z'),\n",
       " ('seitel', 'S-IY-T-EH-L'),\n",
       " ('inne', 'IY-N'),\n",
       " ('kana', 'K-AA-N-AH'),\n",
       " ('idiffer', 'IH-D-IH-F-ER'),\n",
       " ('ctam', 'K-T-AE-M'),\n",
       " ('mmen', 'M-EH-N'),\n",
       " ('dthwaite', 'D-TH-W-EY-T'),\n",
       " ('ahiko', 'AA-HH-IY-K-OW'),\n",
       " ('zonan', 'Z-OW-N-AH-N'),\n",
       " ('etos', 'IY-T-OW-Z'),\n",
       " ('hedeen', 'HH-EH-D-IY-N'),\n",
       " ('alify', 'AA-L-IH-F-AY'),\n",
       " ('leep', 'L-IY-P'),\n",
       " ('aurel', 'AO-R-AH-L'),\n",
       " ('briere', 'B-R-IH-R'),\n",
       " ('onimo', 'AA-N-AH-M-OW'),\n",
       " ('rsuk', 'R-S-AH-K'),\n",
       " ('nnage', 'N-AH-JH'),\n",
       " ('esztes', 'AH-S-T-IY-Z'),\n",
       " ('eyworld', 'IY-W-ER-L-D'),\n",
       " ('silky', 'S-IH-L-K-IY'),\n",
       " ('lvato', 'L-V-AA-T-OW'),\n",
       " ('avelo', 'AA-V-EH-L-OW'),\n",
       " ('winkie', 'W-IH-NG-K-IY'),\n",
       " ('eepak', 'IY-P-AE-K'),\n",
       " ('sinine', 'S-AH-N-AY-N'),\n",
       " ('omair', 'AA-M-EH-R'),\n",
       " ('falgar', 'F-AE-L-G-ER'),\n",
       " ('hern', 'HH-ER-N'),\n",
       " ('alero', 'AH-L-EH-R-OW'),\n",
       " ('henour', 'HH-EH-N-ER'),\n",
       " ('ikael', 'AH-K-EY-L'),\n",
       " ('ppetts', 'P-IH-T-S'),\n",
       " ('lfee', 'L-F-IY'),\n",
       " ('glowered', 'G-L-AW-ER-D'),\n",
       " ('dinak', 'D-IH-N-AE-K'),\n",
       " ('ostka', 'AA-S-T-K-AH'),\n",
       " ('izzi', 'IH-Z-IY'),\n",
       " ('horsed', 'HH-AO-R-S-T'),\n",
       " ('ial', 'IY-AH-L'),\n",
       " ('erage', 'IH-R-AH-JH'),\n",
       " ('merous', 'M-ER-AH-S'),\n",
       " ('tres', 'T-ER-Z'),\n",
       " ('day', 'D-EY'),\n",
       " ('connie', 'K-AO-N-IY'),\n",
       " ('alone', 'AH-L-OW-N-IY'),\n",
       " ('dodging', 'D-AA-JH-IH-NG'),\n",
       " ('hocks', 'HH-AA-K-S'),\n",
       " ('gorous', 'G-ER-AH-S'),\n",
       " ('ivian', 'IH-V-IY-AH-N'),\n",
       " ('astic', 'AE-S-T-AH-K'),\n",
       " ('pfost', 'F-AA-S-T'),\n",
       " ('olff', 'UH-L-F'),\n",
       " ('iced', 'IH-S-T'),\n",
       " ('chall', 'CH-AH-L'),\n",
       " ('aulk', 'AO-K'),\n",
       " ('ewhirst', 'EH-W-ER-S-T'),\n",
       " ('pattee', 'P-AE-T-IY'),\n",
       " ('rrisey', 'R-IH-S-IY'),\n",
       " ('towns', 'T-AW-N-Z'),\n",
       " ('nkov', 'NG-K-AA-V'),\n",
       " ('lbourn', 'L-B-UH-R-N'),\n",
       " ('salom', 'S-AH-L-AH-M'),\n",
       " ('longing', 'L-AO-NG-IH-NG'),\n",
       " ('ubner', 'AH-B-N-ER'),\n",
       " ('maish', 'M-AA-IH-SH'),\n",
       " ('vecoat', 'V-K-OW-T'),\n",
       " ('nsoon', 'N-S-UW-N'),\n",
       " ('rall', 'R-AA-L')]"
      ]
     },
     "execution_count": 45,
     "metadata": {},
     "output_type": "execute_result"
    }
   ],
   "source": [
    "list(distinct_suffixes)[:100]"
   ]
  },
  {
   "cell_type": "code",
   "execution_count": 36,
   "metadata": {},
   "outputs": [
    {
     "name": "stdout",
     "output_type": "stream",
     "text": [
      "brewers'\n",
      "breweries\n",
      "microbreweries\n",
      "brewers\n",
      "brewery\n",
      "brewer\n",
      "microbrewery\n",
      "brewer's\n"
     ]
    }
   ],
   "source": [
    "for grapheme in cmu_dict.grapheme_to_phoneme_dict:\n",
    "    if 'brewer' in grapheme:\n",
    "        print grapheme"
   ]
  },
  {
   "cell_type": "code",
   "execution_count": 37,
   "metadata": {},
   "outputs": [
    {
     "data": {
      "text/plain": [
       "'br'"
      ]
     },
     "execution_count": 37,
     "metadata": {},
     "output_type": "execute_result"
    }
   ],
   "source": [
    "cmu_dict.grapheme_to_alignment_dict['brewer'].subphoneme_to_subgrapheme(0,0)"
   ]
  },
  {
   "cell_type": "code",
   "execution_count": 38,
   "metadata": {},
   "outputs": [
    {
     "data": {
      "text/plain": [
       "[u'B', u'R', u'UW1', u'ER0']"
      ]
     },
     "execution_count": 38,
     "metadata": {},
     "output_type": "execute_result"
    }
   ],
   "source": [
    "cmu_dict.grapheme_to_phoneme_dict['brewer']"
   ]
  },
  {
   "cell_type": "code",
   "execution_count": 39,
   "metadata": {},
   "outputs": [
    {
     "data": {
      "text/plain": [
       "'er'"
      ]
     },
     "execution_count": 39,
     "metadata": {},
     "output_type": "execute_result"
    }
   ],
   "source": [
    "cmu_dict.grapheme_to_alignment_dict['brewer'].subphoneme_to_subgrapheme(3,3)"
   ]
  },
  {
   "cell_type": "code",
   "execution_count": 40,
   "metadata": {},
   "outputs": [
    {
     "data": {
      "text/plain": [
       "'ewer'"
      ]
     },
     "execution_count": 40,
     "metadata": {},
     "output_type": "execute_result"
    }
   ],
   "source": [
    "cmu_dict.grapheme_to_alignment_dict['brewer'].subphoneme_to_subgrapheme(2,3)"
   ]
  },
  {
   "cell_type": "code",
   "execution_count": 41,
   "metadata": {},
   "outputs": [
    {
     "data": {
      "text/plain": [
       "'rewer'"
      ]
     },
     "execution_count": 41,
     "metadata": {},
     "output_type": "execute_result"
    }
   ],
   "source": [
    "cmu_dict.grapheme_to_alignment_dict['brewer'].subphoneme_to_subgrapheme(1,3)"
   ]
  },
  {
   "cell_type": "code",
   "execution_count": 42,
   "metadata": {},
   "outputs": [
    {
     "data": {
      "text/plain": [
       "'brewer'"
      ]
     },
     "execution_count": 42,
     "metadata": {},
     "output_type": "execute_result"
    }
   ],
   "source": [
    "cmu_dict.grapheme_to_alignment_dict['brewer'].subphoneme_to_subgrapheme(0,3)"
   ]
  },
  {
   "cell_type": "code",
   "execution_count": 51,
   "metadata": {},
   "outputs": [
    {
     "name": "stdout",
     "output_type": "stream",
     "text": [
      "nimble\n",
      "nimrodi\n",
      "nimmo\n",
      "nimbus\n",
      "nims\n",
      "nimrod\n",
      "nimitz\n",
      "nimmer\n",
      "nimby\n",
      "nimmons\n",
      "nimoy\n",
      "nimbly\n",
      "nimtz\n"
     ]
    }
   ],
   "source": [
    "for g in cmu_dict.grapheme_to_alignment_dict:\n",
    "    if g[:3] == 'nim':\n",
    "        print g"
   ]
  },
  {
   "cell_type": "code",
   "execution_count": 52,
   "metadata": {},
   "outputs": [
    {
     "name": "stdout",
     "output_type": "stream",
     "text": [
      "patronym\n",
      "synonym\n",
      "acronym\n",
      "pseudonym\n",
      "homonym\n"
     ]
    }
   ],
   "source": [
    "for g in cmu_dict.grapheme_to_alignment_dict:\n",
    "    if g[-3:] == 'nym':\n",
    "        print g"
   ]
  },
  {
   "cell_type": "code",
   "execution_count": 54,
   "metadata": {},
   "outputs": [
    {
     "name": "stdout",
     "output_type": "stream",
     "text": [
      "83\n"
     ]
    }
   ],
   "source": [
    "c = 0\n",
    "for g in cmu_dict.grapheme_to_alignment_dict:\n",
    "    if 'nim' in g:\n",
    "        c += 1\n",
    "print c"
   ]
  },
  {
   "cell_type": "code",
   "execution_count": 55,
   "metadata": {},
   "outputs": [
    {
     "name": "stdout",
     "output_type": "stream",
     "text": [
      "22\n"
     ]
    }
   ],
   "source": [
    "c = 0\n",
    "for g in cmu_dict.grapheme_to_alignment_dict:\n",
    "    if 'nym' in g:\n",
    "        c += 1\n",
    "print c"
   ]
  },
  {
   "cell_type": "code",
   "execution_count": 56,
   "metadata": {},
   "outputs": [
    {
     "name": "stdout",
     "output_type": "stream",
     "text": [
      "marring\n",
      "married\n",
      "marriott\n",
      "marriott's\n",
      "marriner\n",
      "marriages\n",
      "marriage\n",
      "marris\n",
      "marrin\n",
      "marries\n"
     ]
    }
   ],
   "source": [
    "for g in cmu_dict.grapheme_to_alignment_dict:\n",
    "    if g[:5] == 'marri':\n",
    "        print g"
   ]
  },
  {
   "cell_type": "code",
   "execution_count": 57,
   "metadata": {},
   "outputs": [
    {
     "name": "stdout",
     "output_type": "stream",
     "text": [
      "rosemary\n",
      "customary\n",
      "mary\n",
      "omary\n",
      "primary\n",
      "summary\n",
      "mammary\n",
      "francesmary\n",
      "demary\n",
      "st_mary\n",
      "infirmary\n"
     ]
    }
   ],
   "source": [
    "for g in cmu_dict.grapheme_to_alignment_dict:\n",
    "    if g[-4:] == 'mary':\n",
    "        print g"
   ]
  },
  {
   "cell_type": "code",
   "execution_count": 58,
   "metadata": {},
   "outputs": [
    {
     "name": "stdout",
     "output_type": "stream",
     "text": [
      "447\n"
     ]
    }
   ],
   "source": [
    "c = 0\n",
    "for g in cmu_dict.grapheme_to_alignment_dict:\n",
    "    if g[-3:] == 'ist':\n",
    "        c += 1\n",
    "print c"
   ]
  },
  {
   "cell_type": "code",
   "execution_count": 60,
   "metadata": {},
   "outputs": [
    {
     "data": {
      "text/plain": [
       "[u'S', u'T', u'AA1', u'L', u'IH0', u'N', u'IH0', u'S', u'T']"
      ]
     },
     "execution_count": 60,
     "metadata": {},
     "output_type": "execute_result"
    }
   ],
   "source": [
    "cmu_dict.grapheme_to_phoneme_dict['stalinist']"
   ]
  },
  {
   "cell_type": "code",
   "execution_count": 68,
   "metadata": {},
   "outputs": [
    {
     "name": "stdout",
     "output_type": "stream",
     "text": [
      "392\n"
     ]
    }
   ],
   "source": [
    "c = 0\n",
    "for g,p in cmu_dict.grapheme_to_phoneme_dict.iteritems():\n",
    "    ph = map(str, p[-3:])\n",
    "    if len(ph) != 3:\n",
    "        continue\n",
    "    elif filter(str.isalpha, ph[0]) == 'IH' and filter(str.isalpha, ph[1]) == 'S' and filter(str.isalpha, ph[2]) == 'T':\n",
    "        c += 1\n",
    "print c"
   ]
  }
 ],
 "metadata": {
  "kernelspec": {
   "display_name": "Python 2",
   "language": "python",
   "name": "python2"
  },
  "language_info": {
   "codemirror_mode": {
    "name": "ipython",
    "version": 2
   },
   "file_extension": ".py",
   "mimetype": "text/x-python",
   "name": "python",
   "nbconvert_exporter": "python",
   "pygments_lexer": "ipython2",
   "version": "2.7.10"
  }
 },
 "nbformat": 4,
 "nbformat_minor": 2
}

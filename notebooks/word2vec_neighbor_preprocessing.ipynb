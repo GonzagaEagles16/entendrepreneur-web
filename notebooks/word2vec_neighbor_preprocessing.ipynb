{
 "cells": [
  {
   "cell_type": "code",
   "execution_count": 44,
   "metadata": {},
   "outputs": [],
   "source": [
    "import gensim\n",
    "REPO_HOME = '/Users/jonathansimon/code/what-do-you-call-a-bot/'\n",
    "MAX_WORDS = 300000\n",
    "word2vec_model = gensim.models.KeyedVectors.load_word2vec_format(REPO_HOME+'data/GoogleNews-vectors-negative300.bin.gz', binary=True, limit=MAX_WORDS)"
   ]
  },
  {
   "cell_type": "code",
   "execution_count": 3,
   "metadata": {},
   "outputs": [
    {
     "data": {
      "text/plain": [
       "(u'dogs',\n",
       " u'puppy',\n",
       " u'pit_bull',\n",
       " u'pooch',\n",
       " u'cat',\n",
       " u'golden_retriever',\n",
       " u'German_shepherd',\n",
       " u'Rottweiler',\n",
       " u'beagle',\n",
       " u'pup')"
      ]
     },
     "execution_count": 3,
     "metadata": {},
     "output_type": "execute_result"
    }
   ],
   "source": [
    "zip(*word2vec_model.most_similar(positive=['dog'], topn=10))[0]"
   ]
  },
  {
   "cell_type": "code",
   "execution_count": 45,
   "metadata": {},
   "outputs": [],
   "source": [
    "def get_neighbors(grapheme, k=10):\n",
    "    neighbors = list(zip(*word2vec_model.most_similar(positive=[grapheme], topn=k))[0])\n",
    "    neighbor_inds = [word2vec_model.vocab[neighbor].index for neighbor in neighbors]\n",
    "    return zip(neighbors, neighbor_inds)"
   ]
  },
  {
   "cell_type": "code",
   "execution_count": 13,
   "metadata": {},
   "outputs": [
    {
     "data": {
      "text/plain": [
       "[(u'leeks', 87372),\n",
       " (u'parsnips', 145203),\n",
       " (u'fennel', 73660),\n",
       " (u'courgette', 352667),\n",
       " (u'celeriac', 257327),\n",
       " (u'Savoy_cabbage', 740908),\n",
       " (u'cabbage', 30049),\n",
       " (u'parsley', 47712),\n",
       " (u'shallots', 96723),\n",
       " (u'salsify', 446577)]"
      ]
     },
     "execution_count": 13,
     "metadata": {},
     "output_type": "execute_result"
    }
   ],
   "source": [
    "get_neighbors('leek')"
   ]
  },
  {
   "cell_type": "code",
   "execution_count": 14,
   "metadata": {},
   "outputs": [
    {
     "data": {
      "text/plain": [
       "[(u'Pomeranian', 131629),\n",
       " (u'golden_retriever', 63417),\n",
       " (u'beagle', 70277),\n",
       " (u'Dachshund', 200869),\n",
       " (u'border_collie', 102761),\n",
       " (u'Shih_Tzu', 132291),\n",
       " (u'basset_hound', 185369),\n",
       " (u'dog', 2043),\n",
       " (u'cocker_spaniel', 115968),\n",
       " (u'poodle_mix', 644691)]"
      ]
     },
     "execution_count": 14,
     "metadata": {},
     "output_type": "execute_result"
    }
   ],
   "source": [
    "get_neighbors('dachshund')"
   ]
  },
  {
   "cell_type": "code",
   "execution_count": 17,
   "metadata": {},
   "outputs": [
    {
     "data": {
      "text/plain": [
       "[(u'cats', 7107),\n",
       " (u'dog', 2043),\n",
       " (u'kitten', 30416),\n",
       " (u'feline', 40079),\n",
       " (u'beagle', 70277),\n",
       " (u'puppy', 16503),\n",
       " (u'pup', 38961),\n",
       " (u'pet', 4804),\n",
       " (u'felines', 72606),\n",
       " (u'chihuahua', 130539)]"
      ]
     },
     "execution_count": 17,
     "metadata": {},
     "output_type": "execute_result"
    }
   ],
   "source": [
    "get_neighbors('cat')"
   ]
  },
  {
   "cell_type": "code",
   "execution_count": 19,
   "metadata": {},
   "outputs": [
    {
     "data": {
      "text/plain": [
       "[(u'woolly_mammoth', 165995),\n",
       " (u'wooly_mammoth', 467538),\n",
       " (u'mastodons', 240085),\n",
       " (u'triceratops', 305100),\n",
       " (u'dinosaur', 24173),\n",
       " (u'Columbian_mammoths', 893101),\n",
       " (u'mastodon_bones', 937844),\n",
       " (u'Diplodocus', 549561),\n",
       " (u'mastodon_tusk', 1730834),\n",
       " (u'fossils', 28475)]"
      ]
     },
     "execution_count": 19,
     "metadata": {},
     "output_type": "execute_result"
    }
   ],
   "source": [
    "get_neighbors('mastodon')"
   ]
  },
  {
   "cell_type": "code",
   "execution_count": 20,
   "metadata": {},
   "outputs": [
    {
     "data": {
      "text/plain": [
       "[(u'elephants', 15828),\n",
       " (u'rhino', 52754),\n",
       " (u'pachyderm', 152139),\n",
       " (u'tiger', 14452),\n",
       " (u'rhinoceros', 105016),\n",
       " (u'tigers', 22181),\n",
       " (u'hippo', 79047),\n",
       " (u'gorilla', 34353),\n",
       " (u'giraffe', 52851),\n",
       " (u'rhinos', 56577)]"
      ]
     },
     "execution_count": 20,
     "metadata": {},
     "output_type": "execute_result"
    }
   ],
   "source": [
    "get_neighbors('elephant')"
   ]
  },
  {
   "cell_type": "code",
   "execution_count": 21,
   "metadata": {},
   "outputs": [
    {
     "data": {
      "text/plain": [
       "[(u'mammoth_tusk', 719622),\n",
       " (u'mastodon_tusk', 1730834),\n",
       " (u'tusks', 85804),\n",
       " (u'prehistoric_pygmy_mammoth', 2561456),\n",
       " (u'ichthyosaur', 709307),\n",
       " (u'canine_tooth', 613729),\n",
       " (u'canine_teeth', 287268),\n",
       " (u'partial_skeleton', 1039137),\n",
       " (u'fossilized_skull', 728302),\n",
       " (u'sauropod_dinosaur', 1063082)]"
      ]
     },
     "execution_count": 21,
     "metadata": {},
     "output_type": "execute_result"
    }
   ],
   "source": [
    "get_neighbors('tusk')"
   ]
  },
  {
   "cell_type": "code",
   "execution_count": 3,
   "metadata": {},
   "outputs": [
    {
     "data": {
      "text/plain": [
       "[(u'tusks', 85804),\n",
       " (u'canine_teeth', 287268),\n",
       " (u'skull', 13387),\n",
       " (u'molar', 173762),\n",
       " (u'mastodon', 162473),\n",
       " (u'skulls', 32625),\n",
       " (u'mandible', 253832),\n",
       " (u'jawbone', 93610),\n",
       " (u'molars', 140015),\n",
       " (u'tooth', 17803)]"
      ]
     },
     "execution_count": 3,
     "metadata": {},
     "output_type": "execute_result"
    }
   ],
   "source": [
    "get_neighbors('tusk')"
   ]
  },
  {
   "cell_type": "code",
   "execution_count": 5,
   "metadata": {},
   "outputs": [
    {
     "data": {
      "text/plain": [
       "[(u'tusks', 85804),\n",
       " (u'canine_teeth', 287268),\n",
       " (u'skull', 13387),\n",
       " (u'molar', 173762),\n",
       " (u'mastodon', 162473),\n",
       " (u'skulls', 32625),\n",
       " (u'mandible', 253832),\n",
       " (u'jawbone', 93610),\n",
       " (u'molars', 140015),\n",
       " (u'tooth', 17803),\n",
       " (u'T._rex', 108268),\n",
       " (u'fossils', 28475),\n",
       " (u'mammal', 44077),\n",
       " (u'specimen', 30371),\n",
       " (u'pelvic_bone', 210172),\n",
       " (u'fossilized_remains', 214773),\n",
       " (u'sauropod', 258177),\n",
       " (u'tree_trunk', 89605),\n",
       " (u'fossilized', 80768),\n",
       " (u'Tyrannosaurus_rex', 154854)]"
      ]
     },
     "execution_count": 5,
     "metadata": {},
     "output_type": "execute_result"
    }
   ],
   "source": [
    "get_neighbors('tusk', 20) # how does this not cooccur with elephant...?"
   ]
  },
  {
   "cell_type": "code",
   "execution_count": 8,
   "metadata": {},
   "outputs": [],
   "source": [
    "def reverse_neighbors(grapheme, k=10):\n",
    "    neighbors = []\n",
    "    for g in word2vec_model.vocab:\n",
    "        if grapheme in list(zip(*word2vec_model.most_similar(positive=[g], topn=k))[0]):\n",
    "            neighbors.append(g)\n",
    "    return neighbors"
   ]
  },
  {
   "cell_type": "code",
   "execution_count": 3,
   "metadata": {},
   "outputs": [],
   "source": [
    "def reverse_neighbors(grapheme, k=10):\n",
    "    return [g for g in word2vec_model.vocab.iterkeys() if grapheme in zip(*word2vec_model.most_similar(positive=[g], topn=k))[0]]"
   ]
  },
  {
   "cell_type": "code",
   "execution_count": 4,
   "metadata": {},
   "outputs": [
    {
     "ename": "KeyboardInterrupt",
     "evalue": "",
     "output_type": "error",
     "traceback": [
      "\u001b[0;31m---------------------------------------------------------------------------\u001b[0m",
      "\u001b[0;31mKeyboardInterrupt\u001b[0m                         Traceback (most recent call last)",
      "\u001b[0;32m<ipython-input-4-5890fad56f50>\u001b[0m in \u001b[0;36m<module>\u001b[0;34m()\u001b[0m\n\u001b[1;32m      1\u001b[0m \u001b[0;32mfrom\u001b[0m \u001b[0mtime\u001b[0m \u001b[0;32mimport\u001b[0m \u001b[0mtime\u001b[0m\u001b[0;34m\u001b[0m\u001b[0m\n\u001b[1;32m      2\u001b[0m \u001b[0mstart\u001b[0m \u001b[0;34m=\u001b[0m \u001b[0mtime\u001b[0m\u001b[0;34m(\u001b[0m\u001b[0;34m)\u001b[0m\u001b[0;34m\u001b[0m\u001b[0m\n\u001b[0;32m----> 3\u001b[0;31m \u001b[0mres\u001b[0m \u001b[0;34m=\u001b[0m \u001b[0mreverse_neighbors\u001b[0m\u001b[0;34m(\u001b[0m\u001b[0;34m'elephant'\u001b[0m\u001b[0;34m)\u001b[0m\u001b[0;34m\u001b[0m\u001b[0m\n\u001b[0m\u001b[1;32m      4\u001b[0m \u001b[0;32mprint\u001b[0m \u001b[0mres\u001b[0m\u001b[0;34m\u001b[0m\u001b[0m\n\u001b[1;32m      5\u001b[0m \u001b[0mend\u001b[0m \u001b[0;34m=\u001b[0m \u001b[0mtime\u001b[0m\u001b[0;34m(\u001b[0m\u001b[0;34m)\u001b[0m\u001b[0;34m\u001b[0m\u001b[0m\n",
      "\u001b[0;32m<ipython-input-3-1034e72c9c35>\u001b[0m in \u001b[0;36mreverse_neighbors\u001b[0;34m(grapheme, k)\u001b[0m\n\u001b[1;32m      1\u001b[0m \u001b[0;32mdef\u001b[0m \u001b[0mreverse_neighbors\u001b[0m\u001b[0;34m(\u001b[0m\u001b[0mgrapheme\u001b[0m\u001b[0;34m,\u001b[0m \u001b[0mk\u001b[0m\u001b[0;34m=\u001b[0m\u001b[0;36m10\u001b[0m\u001b[0;34m)\u001b[0m\u001b[0;34m:\u001b[0m\u001b[0;34m\u001b[0m\u001b[0m\n\u001b[0;32m----> 2\u001b[0;31m     \u001b[0;32mreturn\u001b[0m \u001b[0;34m[\u001b[0m\u001b[0mg\u001b[0m \u001b[0;32mfor\u001b[0m \u001b[0mg\u001b[0m \u001b[0;32min\u001b[0m \u001b[0mword2vec_model\u001b[0m\u001b[0;34m.\u001b[0m\u001b[0mvocab\u001b[0m\u001b[0;34m.\u001b[0m\u001b[0miterkeys\u001b[0m\u001b[0;34m(\u001b[0m\u001b[0;34m)\u001b[0m \u001b[0;32mif\u001b[0m \u001b[0mgrapheme\u001b[0m \u001b[0;32min\u001b[0m \u001b[0mzip\u001b[0m\u001b[0;34m(\u001b[0m\u001b[0;34m*\u001b[0m\u001b[0mword2vec_model\u001b[0m\u001b[0;34m.\u001b[0m\u001b[0mmost_similar\u001b[0m\u001b[0;34m(\u001b[0m\u001b[0mpositive\u001b[0m\u001b[0;34m=\u001b[0m\u001b[0;34m[\u001b[0m\u001b[0mg\u001b[0m\u001b[0;34m]\u001b[0m\u001b[0;34m,\u001b[0m \u001b[0mtopn\u001b[0m\u001b[0;34m=\u001b[0m\u001b[0mk\u001b[0m\u001b[0;34m)\u001b[0m\u001b[0;34m)\u001b[0m\u001b[0;34m[\u001b[0m\u001b[0;36m0\u001b[0m\u001b[0;34m]\u001b[0m\u001b[0;34m]\u001b[0m\u001b[0;34m\u001b[0m\u001b[0m\n\u001b[0m",
      "\u001b[0;32m/Users/jonathansimon/.pyenv/versions/2.7.10/lib/python2.7/site-packages/gensim/models/keyedvectors.pyc\u001b[0m in \u001b[0;36mmost_similar\u001b[0;34m(self, positive, negative, topn, restrict_vocab, indexer)\u001b[0m\n\u001b[1;32m    374\u001b[0m \u001b[0;34m\u001b[0m\u001b[0m\n\u001b[1;32m    375\u001b[0m         \u001b[0mlimited\u001b[0m \u001b[0;34m=\u001b[0m \u001b[0mself\u001b[0m\u001b[0;34m.\u001b[0m\u001b[0mvectors_norm\u001b[0m \u001b[0;32mif\u001b[0m \u001b[0mrestrict_vocab\u001b[0m \u001b[0;32mis\u001b[0m \u001b[0mNone\u001b[0m \u001b[0;32melse\u001b[0m \u001b[0mself\u001b[0m\u001b[0;34m.\u001b[0m\u001b[0mvectors_norm\u001b[0m\u001b[0;34m[\u001b[0m\u001b[0;34m:\u001b[0m\u001b[0mrestrict_vocab\u001b[0m\u001b[0;34m]\u001b[0m\u001b[0;34m\u001b[0m\u001b[0m\n\u001b[0;32m--> 376\u001b[0;31m         \u001b[0mdists\u001b[0m \u001b[0;34m=\u001b[0m \u001b[0mdot\u001b[0m\u001b[0;34m(\u001b[0m\u001b[0mlimited\u001b[0m\u001b[0;34m,\u001b[0m \u001b[0mmean\u001b[0m\u001b[0;34m)\u001b[0m\u001b[0;34m\u001b[0m\u001b[0m\n\u001b[0m\u001b[1;32m    377\u001b[0m         \u001b[0;32mif\u001b[0m \u001b[0;32mnot\u001b[0m \u001b[0mtopn\u001b[0m\u001b[0;34m:\u001b[0m\u001b[0;34m\u001b[0m\u001b[0m\n\u001b[1;32m    378\u001b[0m             \u001b[0;32mreturn\u001b[0m \u001b[0mdists\u001b[0m\u001b[0;34m\u001b[0m\u001b[0m\n",
      "\u001b[0;31mKeyboardInterrupt\u001b[0m: "
     ]
    }
   ],
   "source": [
    "from time import time\n",
    "start = time()\n",
    "res = reverse_neighbors('elephant')\n",
    "print res\n",
    "end = time()\n",
    "print '{:.2f}sec'.format(end-start)"
   ]
  },
  {
   "cell_type": "markdown",
   "metadata": {},
   "source": []
  },
  {
   "cell_type": "code",
   "execution_count": null,
   "metadata": {},
   "outputs": [],
   "source": [
    "# to figure out if this is remotely feasible to run, slowly ramp using smaller n, and build the (quadratic) curve\n",
    "# Issue may be that I'm looking for similar-context words, when I need to be looking to co-occurring words"
   ]
  },
  {
   "cell_type": "code",
   "execution_count": 9,
   "metadata": {},
   "outputs": [
    {
     "name": "stdout",
     "output_type": "stream",
     "text": [
      "M=1000\t: 0.15sec\n",
      "M=2000\t: 0.58sec\n",
      "M=3000\t: 1.10sec\n",
      "M=4000\t: 1.83sec\n",
      "M=5000\t: 2.89sec\n",
      "M=6000\t: 4.02sec\n",
      "M=7000\t: 5.11sec\n",
      "M=8000\t: 6.65sec\n",
      "M=9000\t: 8.26sec\n",
      "M=10000\t: 13.86sec\n",
      "M=11000\t: 13.55sec\n",
      "M=12000\t: 16.62sec\n",
      "M=13000\t: 18.51sec\n",
      "M=14000\t: 20.22sec\n",
      "M=15000\t: 23.93sec\n",
      "M=16000\t: 27.25sec\n",
      "M=17000\t: 31.41sec\n",
      "M=18000\t: 33.86sec\n",
      "M=19000\t: 42.27sec\n",
      "M=20000\t: 42.20sec\n"
     ]
    }
   ],
   "source": [
    "def reverse_neighbors_flex(grapheme, model, k=10):\n",
    "    return [g for g in word2vec_model.vocab.iterkeys() if grapheme in zip(*word2vec_model.most_similar(positive=[g], topn=k))[0]]\n",
    "    \n",
    "max_words_list = range(1000,21000,1000)\n",
    "for m in max_words_list:\n",
    "    word2vec_model = gensim.models.KeyedVectors.load_word2vec_format(REPO_HOME+'data/GoogleNews-vectors-negative300.bin.gz', binary=True, limit=m)\n",
    "    start = time()\n",
    "    res = reverse_neighbors_flex('elephant', word2vec_model)\n",
    "    end = time()\n",
    "    print 'M={}\\t: {:.2f}sec'.format(m, end-start)\n"
   ]
  },
  {
   "cell_type": "code",
   "execution_count": 17,
   "metadata": {},
   "outputs": [
    {
     "data": {
      "image/png": "[encoded data removed]",
      "text/plain": [
       "<matplotlib.figure.Figure at 0x11127cb90>"
      ]
     },
     "metadata": {},
     "output_type": "display_data"
    }
   ],
   "source": [
    "%matplotlib inline\n",
    "import matplotlib.pyplot as plt\n",
    "import numpy as np\n",
    "\n",
    "ms = range(1000,21000,1000)\n",
    "ts = [0.15,0.58,1.10,1.83,2.89,4.02,5.11,6.65,8.26,13.86,13.55,16.62,18.51,20.22,23.93,27.25,31.41,33.86,42.27,42.20]\n",
    "\n",
    "q = np.polyfit(ms, ts, deg=2)\n",
    "f = lambda x: q[0]*x**2 + q[1]*x + q[2]\n",
    "plt.scatter(ms, ts)\n",
    "plt.plot(ms, map(f, ms))\n",
    "plt.show()"
   ]
  },
  {
   "cell_type": "code",
   "execution_count": 20,
   "metadata": {},
   "outputs": [
    {
     "data": {
      "text/plain": [
       "2.6359723571871596"
      ]
     },
     "execution_count": 20,
     "metadata": {},
     "output_type": "execute_result"
    }
   ],
   "source": [
    "f(300000) / 3600.0 # 2.64hr"
   ]
  },
  {
   "cell_type": "code",
   "execution_count": 33,
   "metadata": {},
   "outputs": [
    {
     "data": {
      "text/plain": [
       "17.64069466279334"
      ]
     },
     "execution_count": 33,
     "metadata": {},
     "output_type": "execute_result"
    }
   ],
   "source": [
    "f(100000) / 60.0 # 17.6min"
   ]
  },
  {
   "cell_type": "code",
   "execution_count": 28,
   "metadata": {},
   "outputs": [
    {
     "name": "stdout",
     "output_type": "stream",
     "text": [
      "Finished iteration 10000 after 0.33min\n"
     ]
    }
   ],
   "source": [
    "# Preprocess first 300k word vectors, printing after 10k (should equate to every ~5.3min)\n",
    "from collections import defaultdict\n",
    "\n",
    "MAX_WORDS = 20000\n",
    "word2vec_model = gensim.models.KeyedVectors.load_word2vec_format(REPO_HOME+'data/GoogleNews-vectors-negative300.bin.gz', binary=True, limit=MAX_WORDS)\n",
    "\n",
    "def preprocess_w2v_neighbors(model, k=10):\n",
    "    neighbor_dict = defaultdict(list)\n",
    "    start = time()\n",
    "    for idx, g2 in enumerate(model.vocab.iterkeys()):\n",
    "        for g1 in zip(*word2vec_model.most_similar(positive=[g2], topn=k))[0]:\n",
    "            neighbor_dict[g1].append(g2)\n",
    "        if (idx-1) % 10000 == 0:\n",
    "            print 'Finished iteration {} after {:.2f}min'.format(idx, (time()-start)/60.0)    \n",
    "    return neighbor_dict\n",
    "\n",
    "res = preprocess_w2v_neighbors(word2vec_model)"
   ]
  },
  {
   "cell_type": "code",
   "execution_count": null,
   "metadata": {},
   "outputs": [],
   "source": [
    "from cpickle import dumps"
   ]
  },
  {
   "cell_type": "code",
   "execution_count": 29,
   "metadata": {},
   "outputs": [
    {
     "data": {
      "text/plain": [
       "[u'zoo',\n",
       " u'snake',\n",
       " u'monkey',\n",
       " u'elephants',\n",
       " u'bear',\n",
       " u'Zoo',\n",
       " u'shark',\n",
       " u'tiger',\n",
       " u'lion']"
      ]
     },
     "execution_count": 29,
     "metadata": {},
     "output_type": "execute_result"
    }
   ],
   "source": [
    "res['elephant']"
   ]
  },
  {
   "cell_type": "code",
   "execution_count": 30,
   "metadata": {},
   "outputs": [
    {
     "data": {
      "text/plain": [
       "[u'Dogs',\n",
       " u'vet',\n",
       " u'puppy',\n",
       " u'animal',\n",
       " u'snake',\n",
       " u'cage',\n",
       " u'monkey',\n",
       " u'dogs',\n",
       " u'cat',\n",
       " u'breeds',\n",
       " u'breed',\n",
       " u'cats',\n",
       " u'veterinarian',\n",
       " u'Animal',\n",
       " u'pets',\n",
       " u'companion',\n",
       " u'pet',\n",
       " u'stray',\n",
       " u'Pet',\n",
       " u'Dog',\n",
       " u'collar']"
      ]
     },
     "execution_count": 30,
     "metadata": {},
     "output_type": "execute_result"
    }
   ],
   "source": [
    "res['dog']"
   ]
  },
  {
   "cell_type": "code",
   "execution_count": 37,
   "metadata": {},
   "outputs": [
    {
     "data": {
      "text/plain": [
       "[u'chorus',\n",
       " u'sang',\n",
       " u'performed',\n",
       " u'singing',\n",
       " u'sings',\n",
       " u'lyrics',\n",
       " u'sing',\n",
       " u'national_anthem',\n",
       " u'rendition',\n",
       " u'song']"
      ]
     },
     "execution_count": 37,
     "metadata": {},
     "output_type": "execute_result"
    }
   ],
   "source": [
    "res['sung']"
   ]
  },
  {
   "cell_type": "code",
   "execution_count": 46,
   "metadata": {},
   "outputs": [
    {
     "data": {
      "text/plain": [
       "[(u'elephants', 15828),\n",
       " (u'rhino', 52754),\n",
       " (u'pachyderm', 152139),\n",
       " (u'tiger', 14452),\n",
       " (u'rhinoceros', 105016),\n",
       " (u'tigers', 22181),\n",
       " (u'hippo', 79047),\n",
       " (u'gorilla', 34353),\n",
       " (u'giraffe', 52851),\n",
       " (u'rhinos', 56577),\n",
       " (u'hippopotamus', 149954),\n",
       " (u'Bengal_tiger', 139590),\n",
       " (u'pachyderms', 155113),\n",
       " (u'orangutan', 85620),\n",
       " (u'lions', 23352),\n",
       " (u'tortoise', 52507),\n",
       " (u'monkey', 17100),\n",
       " (u'leopard', 44786),\n",
       " (u'tiger_cub', 244941),\n",
       " (u'chimp', 45993),\n",
       " (u'Elephant', 32140),\n",
       " (u'panda', 37720),\n",
       " (u'giraffes', 75837),\n",
       " (u'cheetah', 75380),\n",
       " (u'zebra', 57315),\n",
       " (u'chimpanzee', 48786),\n",
       " (u'lion', 14223),\n",
       " (u'antelope', 64903),\n",
       " (u'panther', 69433),\n",
       " (u'snake', 14786),\n",
       " (u'rabbit', 20336),\n",
       " (u'turtle', 24360),\n",
       " (u'ape', 42573),\n",
       " (u'orang_utan', 217042),\n",
       " (u'tusker', 274452),\n",
       " (u'gorillas', 45306),\n",
       " (u'tigress', 137635),\n",
       " (u'unicorn', 88174),\n",
       " (u'animal', 2801),\n",
       " (u'baboon', 103336),\n",
       " (u'leopards', 77113),\n",
       " (u'zoo', 9089),\n",
       " (u'monitor_lizard', 291708),\n",
       " (u'donkey', 30560),\n",
       " (u'goat', 20625),\n",
       " (u'antelopes', 184139),\n",
       " (u'alligator', 26002),\n",
       " (u'jaguar', 82530),\n",
       " (u'mammal', 44077),\n",
       " (u'lemur', 158561)]"
      ]
     },
     "execution_count": 46,
     "metadata": {},
     "output_type": "execute_result"
    }
   ],
   "source": [
    "get_neighbors('elephant', k=50)"
   ]
  },
  {
   "cell_type": "code",
   "execution_count": 47,
   "metadata": {},
   "outputs": [
    {
     "data": {
      "text/plain": [
       "[(u'rhinos', 56577),\n",
       " (u'rhinoceros', 105016),\n",
       " (u'elephants', 15828),\n",
       " (u'elephant', 13033),\n",
       " (u'hippo', 79047),\n",
       " (u'tigers', 22181),\n",
       " (u'tiger', 14452),\n",
       " (u'antelope', 64903),\n",
       " (u'cheetah', 75380),\n",
       " (u'gorillas', 45306),\n",
       " (u'giraffe', 52851),\n",
       " (u'antelopes', 184139),\n",
       " (u'leopards', 77113),\n",
       " (u'Sumatran_tiger', 252783),\n",
       " (u'baboon', 103336),\n",
       " (u'lions', 23352),\n",
       " (u'impala', 272013),\n",
       " (u'panther', 69433),\n",
       " (u'gorilla', 34353),\n",
       " (u'tiger_cubs', 182681),\n",
       " (u'pachyderm', 152139),\n",
       " (u'jaguar', 82530),\n",
       " (u'cheetahs', 100999),\n",
       " (u'giraffes', 75837),\n",
       " (u'zoo', 9089),\n",
       " (u'mammal', 44077),\n",
       " (u'lion_cubs', 219935),\n",
       " (u'leopard', 44786),\n",
       " (u'mountain_gorilla', 283785),\n",
       " (u'tortoise', 52507),\n",
       " (u'hippos', 98453),\n",
       " (u'grizzly', 55011),\n",
       " (u'panda', 37720),\n",
       " (u'wildebeest', 150911),\n",
       " (u'orangutan', 85620),\n",
       " (u'cubs', 33932),\n",
       " (u'orang_utan', 217042),\n",
       " (u'zebra', 57315),\n",
       " (u'warthog', 245399),\n",
       " (u'tusker', 274452),\n",
       " (u'Bengal_tigers', 219435),\n",
       " (u'cub', 36516),\n",
       " (u'lioness', 128353),\n",
       " (u'grizzly_bear', 64602),\n",
       " (u'gibbon', 256901),\n",
       " (u'buffalo', 28233),\n",
       " (u'otter', 79231),\n",
       " (u'chimp', 45993),\n",
       " (u'tigress', 137635),\n",
       " (u'gibbons', 196918)]"
      ]
     },
     "execution_count": 47,
     "metadata": {},
     "output_type": "execute_result"
    }
   ],
   "source": [
    "get_neighbors('rhino', k=50)"
   ]
  },
  {
   "cell_type": "code",
   "execution_count": 48,
   "metadata": {},
   "outputs": [
    {
     "data": {
      "text/plain": [
       "[(u'wretched', 36124),\n",
       " (u'dreadful', 17968),\n",
       " (u'horrid', 44710),\n",
       " (u'dismal', 10576),\n",
       " (u'woeful', 24783),\n",
       " (u'pitiful', 38439),\n",
       " (u'dreary', 30237),\n",
       " (u'abysmal', 28415),\n",
       " (u'horrible', 8002),\n",
       " (u'horrendous', 18350),\n",
       " (u'atrocious', 31557),\n",
       " (u'lousy', 20208),\n",
       " (u'terrible', 4906),\n",
       " (u'pathetic', 16576),\n",
       " (u'depressing', 17091),\n",
       " (u'misery', 12200),\n",
       " (u'crummy', 69716),\n",
       " (u'hopeless', 23496),\n",
       " (u'forgettable', 32199),\n",
       " (u'awful', 7276),\n",
       " (u'hellish', 54271),\n",
       " (u'mediocre', 14856),\n",
       " (u'abject', 60107),\n",
       " (u'disastrous', 9896),\n",
       " (u'nightmarish', 41069),\n",
       " (u'bleak', 12606),\n",
       " (u'listless', 41684),\n",
       " (u'putrid', 72413),\n",
       " (u'unfulfilling', 158531),\n",
       " (u'unbearable', 25553),\n",
       " (u'poor', 1268),\n",
       " (u'pitiable', 119441),\n",
       " (u'dispiriting', 70312),\n",
       " (u'nightmare', 8692),\n",
       " (u'miserably', 54331),\n",
       " (u'frustrating', 6410),\n",
       " (u'bad', 706),\n",
       " (u'gloomy', 17603),\n",
       " (u'disappointing', 3885),\n",
       " (u'appalling', 16157),\n",
       " (u'demoralizing', 40723),\n",
       " (u'joyless', 119655),\n",
       " (u'Miserable', 143245),\n",
       " (u'humiliating', 19099),\n",
       " (u'lackluster', 12146),\n",
       " (u'worst', 1444),\n",
       " (u'inglorious', 105510),\n",
       " (u'cheerless', 223799),\n",
       " (u'miseries', 69681),\n",
       " (u'torturous', 61031)]"
      ]
     },
     "execution_count": 48,
     "metadata": {},
     "output_type": "execute_result"
    }
   ],
   "source": [
    "get_neighbors('miserable', k=50)"
   ]
  },
  {
   "cell_type": "code",
   "execution_count": 49,
   "metadata": {},
   "outputs": [
    {
     "data": {
      "text/plain": [
       "[(u'curvaceous', 93434),\n",
       " (u'slimline', 137124),\n",
       " (u'shapely', 98886),\n",
       " (u'curvier', 207198),\n",
       " (u'curvy', 50047),\n",
       " (u'lithe', 74528),\n",
       " (u'sleek', 15243),\n",
       " (u'skinny', 17678),\n",
       " (u'anorexic', 79787),\n",
       " (u'slimmer', 34114),\n",
       " (u'voluptuous', 72112),\n",
       " (u'petite', 36290),\n",
       " (u'physique', 38561),\n",
       " (u'slimmed_down', 49596),\n",
       " (u'flab', 105078),\n",
       " (u'ultra_slim', 107026),\n",
       " (u'sleeker', 66728),\n",
       " (u'portly', 74336),\n",
       " (u'skinnier', 117774),\n",
       " (u'bod', 123447),\n",
       " (u'##.#mm_thick', 290008),\n",
       " (u'statuesque', 103465),\n",
       " (u'plump', 41359),\n",
       " (u'diminutive', 27467),\n",
       " (u'demure', 66856),\n",
       " (u'stylish', 11684),\n",
       " (u'slender', 23902),\n",
       " (u'chubby', 47143),\n",
       " (u'buxom', 116296),\n",
       " (u'sexy', 9478),\n",
       " (u'noticeably_thinner', 298564),\n",
       " (u'hourglass_figure', 252808),\n",
       " (u'six_pack_abs', 168907),\n",
       " (u'willowy', 137854),\n",
       " (u'rotund', 95684),\n",
       " (u'looker', 131623),\n",
       " (u'flabby', 91331),\n",
       " (u'chunkier', 216239),\n",
       " (u'bootylicious', 291085),\n",
       " (u'leggy', 89317),\n",
       " (u'pudgy', 86481),\n",
       " (u'waif', 126098),\n",
       " (u'va_va_voom', 261907),\n",
       " (u'muscular', 21406),\n",
       " (u'busty', 120065),\n",
       " (u'beefy', 55990),\n",
       " (u'chunky', 39140),\n",
       " (u'gorgeous', 12053),\n",
       " (u'flat_chested', 280617),\n",
       " (u'slim', 8617)]"
      ]
     },
     "execution_count": 49,
     "metadata": {},
     "output_type": "execute_result"
    }
   ],
   "source": [
    "get_neighbors('svelte', k=50)"
   ]
  },
  {
   "cell_type": "code",
   "execution_count": 50,
   "metadata": {},
   "outputs": [
    {
     "data": {
      "text/plain": [
       "[(u'annoying', 12675),\n",
       " (u'irritating', 26180),\n",
       " (u'boorish', 90118),\n",
       " (u'uncouth', 114083),\n",
       " (u'insufferable', 82705),\n",
       " (u'rude', 16623),\n",
       " (u'moronic', 72903),\n",
       " (u'ill_mannered', 186136),\n",
       " (u'obnoxiously', 157923),\n",
       " (u'loathsome', 86930),\n",
       " (u'whiny', 68123),\n",
       " (u'vulgar', 28852),\n",
       " (u'idiotic', 37334),\n",
       " (u'asshole', 65501),\n",
       " (u'tactless', 175072),\n",
       " (u'inane', 54172),\n",
       " (u'egotistical', 71343),\n",
       " (u'arrogant', 15986),\n",
       " (u'loud_mouthed', 172413),\n",
       " (u'dopey', 92670),\n",
       " (u'foul_mouthed', 59406),\n",
       " (u'bratty', 117552),\n",
       " (u'loutish', 222499),\n",
       " (u'insolent', 141367),\n",
       " (u'mean_spirited', 41152),\n",
       " (u'overbearing', 43759),\n",
       " (u'whiney', 197491),\n",
       " (u'pompous', 53377),\n",
       " (u'condescending', 48784),\n",
       " (u'unfunny', 85877),\n",
       " (u'irksome', 100497),\n",
       " (u'snotty', 108949),\n",
       " (u'oafish', 248247),\n",
       " (u'inconsiderate', 72793),\n",
       " (u'goofy', 24445),\n",
       " (u'snide', 101655),\n",
       " (u'unlikable', 140284),\n",
       " (u'unlikeable', 243418),\n",
       " (u'politically_incorrect', 55996),\n",
       " (u'boor', 281923),\n",
       " (u'pushy', 59628),\n",
       " (u'dim_witted', 129466),\n",
       " (u'nauseating', 70871),\n",
       " (u'infantile', 81428),\n",
       " (u'crass', 42697),\n",
       " (u'hateful', 30329),\n",
       " (u'crabby', 124062),\n",
       " (u'stupid', 6762),\n",
       " (u'smarmy', 93138),\n",
       " (u'self_absorbed', 54375)]"
      ]
     },
     "execution_count": 50,
     "metadata": {},
     "output_type": "execute_result"
    }
   ],
   "source": [
    "get_neighbors('obnoxious', k=50)"
   ]
  },
  {
   "cell_type": "code",
   "execution_count": null,
   "metadata": {},
   "outputs": [],
   "source": []
  }
 ],
 "metadata": {
  "kernelspec": {
   "display_name": "Python 2",
   "language": "python",
   "name": "python2"
  },
  "language_info": {
   "codemirror_mode": {
    "name": "ipython",
    "version": 2
   },
   "file_extension": ".py",
   "mimetype": "text/x-python",
   "name": "python",
   "nbconvert_exporter": "python",
   "pygments_lexer": "ipython2",
   "version": "2.7.10"
  }
 },
 "nbformat": 4,
 "nbformat_minor": 2
}

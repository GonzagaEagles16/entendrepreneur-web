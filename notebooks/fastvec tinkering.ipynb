{
 "cells": [
  {
   "cell_type": "code",
   "execution_count": null,
   "metadata": {},
   "outputs": [],
   "source": [
    "data_path = '/Users/jonathansimon/code/what-do-you-call-a-bot/data/crawl-300d-2M.vec'\n",
    "\n",
    "import io\n",
    "\n",
    "def load_vectors(fname):\n",
    "    fin = io.open(fname, 'r', encoding='utf-8', newline='\\n', errors='ignore')\n",
    "    n, d = map(int, fin.readline().split())\n",
    "    data = {}\n",
    "    for line in fin:\n",
    "        tokens = line.rstrip().split(' ')\n",
    "        data[tokens[0]] = map(float, tokens[1:])\n",
    "    return data\n",
    "\n",
    "fastvec = load_vectors(data_path)"
   ]
  },
  {
   "cell_type": "code",
   "execution_count": null,
   "metadata": {},
   "outputs": [],
   "source": [
    "# I DO need to (re)roll my own nearest neighbors function"
   ]
  },
  {
   "cell_type": "code",
   "execution_count": 2,
   "metadata": {},
   "outputs": [],
   "source": [
    "# test whether there is the same sort of progressively-decreasing frequency pattern that would allow me to through away garbage words\n",
    "\n",
    "import io\n",
    "\n",
    "data_path = '/Users/jonathansimon/code/what-do-you-call-a-bot/data/crawl-300d-2M.vec'\n",
    "\n",
    "fin = io.open(data_path, 'r', encoding='utf-8', newline='\\n', errors='ignore')\n",
    "n, d = map(int, fin.readline().split())\n",
    "# data = {}\n",
    "# for line in fin:\n",
    "#     tokens = line.rstrip().split(' ')\n",
    "#     data[tokens[0]] = map(float, tokens[1:])\n",
    "# return data\n"
   ]
  },
  {
   "cell_type": "code",
   "execution_count": 3,
   "metadata": {},
   "outputs": [
    {
     "data": {
      "text/plain": [
       "1999995"
      ]
     },
     "execution_count": 3,
     "metadata": {},
     "output_type": "execute_result"
    }
   ],
   "source": [
    "n"
   ]
  },
  {
   "cell_type": "code",
   "execution_count": 4,
   "metadata": {},
   "outputs": [
    {
     "data": {
      "text/plain": [
       "300"
      ]
     },
     "execution_count": 4,
     "metadata": {},
     "output_type": "execute_result"
    }
   ],
   "source": [
    "d"
   ]
  },
  {
   "cell_type": "code",
   "execution_count": 5,
   "metadata": {},
   "outputs": [
    {
     "name": "stdout",
     "output_type": "stream",
     "text": [
      "0 ,\n",
      "10000 Holidays\n",
      "20000 landfill\n",
      "30000 antidepressants\n",
      "40000 Pac-12\n",
      "50000 hallmarks\n",
      "60000 Craving\n",
      "70000 Motorists\n",
      "80000 MVA\n",
      "90000 goal-setting\n",
      "100000 refering\n",
      "110000 lation\n",
      "120000 AMYes\n",
      "130000 OAP\n",
      "140000 Naturopath\n",
      "150000 15oz\n",
      "160000 us.This\n",
      "170000 Sapir\n",
      "180000 Denisa\n",
      "190000 Hilaire\n",
      "200000 apears\n",
      "210000 lapatinib\n",
      "220000 FGL\n",
      "230000 Oikawa\n",
      "240000 Kahaani\n",
      "250000 one-lane\n",
      "260000 aftermaths\n",
      "270000 Self-published\n",
      "280000 Golfito\n",
      "290000 3NT\n",
      "300000 Yockey\n",
      "310000 Polyamorous\n",
      "320000 Fishbourne\n",
      "330000 Bhag\n",
      "340000 LOMO\n",
      "350000 CAMELOT\n",
      "360000 AT-X\n",
      "370000 battlecry\n",
      "380000 intumescent\n",
      "390000 Westbahnhof\n",
      "400000 troparia\n",
      "410000 Ecbatana\n",
      "420000 Kuruma\n",
      "430000 PAGER\n",
      "440000 Stashing\n",
      "450000 maxie\n",
      "460000 Dispur\n",
      "470000 tR\n",
      "480000 humper\n",
      "490000 Pezzi\n",
      "500000 Atrioventricular\n",
      "510000 Vannie\n",
      "520000 autrement\n",
      "530000 lfg\n",
      "540000 Να\n",
      "550000 Dalsgaard\n",
      "560000 bisulfate\n",
      "570000 thamike\n",
      "580000 hestitate\n",
      "590000 Patis\n",
      "600000 TT4\n",
      "610000 Magazines.com\n",
      "620000 asked.He\n",
      "630000 Glander\n",
      "640000 220-902\n",
      "650000 wire-guided\n",
      "660000 Allmusic.com\n",
      "670000 PostNord\n",
      "680000 StoresOnline\n",
      "690000 mind-changing\n",
      "700000 OzLand\n",
      "710000 Escogido\n",
      "720000 S620\n",
      "730000 diag.\n",
      "740000 fungoid\n",
      "750000 cansada\n",
      "760000 WBCHSE\n",
      "770000 8797\n",
      "780000 28.81\n",
      "790000 five-blade\n",
      "800000 buttcheek\n",
      "810000 iPod-compatible\n",
      "820000 bio-remediation\n",
      "830000 Haultain\n",
      "840000 6,890\n",
      "850000 againThank\n",
      "860000 federal-government\n",
      "870000 it.Following\n",
      "880000 WilliamsA\n",
      "890000 14ReplyRetweetFavorite\n",
      "900000 KKLA\n",
      "910000 NARPM\n",
      "920000 ,,well\n",
      "930000 Děkuji\n",
      "940000 Kumusta\n",
      "950000 voran\n",
      "960000 sex2\n",
      "970000 Stoval\n",
      "980000 Telecoms.com\n",
      "990000 NSRF\n",
      "1000000 Large-Print\n",
      "1010000 vainer\n",
      "1020000 91766\n",
      "1030000 19505\n",
      "1040000 cameleers\n",
      "1050000 1.55V\n",
      "1060000 --14\n",
      "1070000 THAC\n",
      "1080000 98039\n",
      "1090000 arrrive\n",
      "1100000 Korsholm\n",
      "1110000 ̾\n",
      "1120000 13309\n",
      "1130000 exam-based\n",
      "1140000 laptop.This\n",
      "1150000 it.Yes.\n",
      "1160000 5.7g\n",
      "1170000 Vosen\n",
      "1180000 deconvolving\n",
      "1190000 lighton\n",
      "1200000 Paleo-\n",
      "1210000 Non-XML\n",
      "1220000 CAHME\n",
      "1230000 Neihaus\n",
      "1240000 GPMs\n",
      "1250000 buyer-supplier\n",
      "1260000 Kamienski\n",
      "1270000 Fuuuck\n",
      "1280000 südlichen\n",
      "1290000 17l\n",
      "1300000 Yes.We\n",
      "1310000 Rhidian\n",
      "1320000 purpurin\n",
      "1330000 Höhere\n",
      "1340000 -24.5\n",
      "1350000 Totonno\n",
      "1360000 applicationA\n",
      "1370000 młodych\n",
      "1380000 12,095\n",
      "1390000 Torties\n",
      "1400000 boy.When\n",
      "1410000 Artix-7\n",
      "1420000 butter-fried\n",
      "1430000 HandMeAChurroImmaFaint\n",
      "1440000 Syria.He\n",
      "1450000 Classic-Pirates.com\n",
      "1460000 line-interactive\n",
      "1470000 290C\n",
      "1480000 free.She\n",
      "1490000 megakaryoblastic\n",
      "1500000 Gamemodes\n",
      "1510000 nonfluoridated\n",
      "1520000 PMLosing\n",
      "1530000 music.These\n",
      "1540000 umbrella.I\n",
      "1550000 Jupitar\n",
      "1560000 ConditionsShipping\n",
      "1570000 Microreactor\n",
      "1580000 ADAHRS\n",
      "1590000 bigten\n",
      "1600000 Sundaramurthy\n",
      "1610000 Eco-friendliness\n",
      "1620000 tri-peptides\n",
      "1630000 protonic.com\n",
      "1640000 Stars10\n",
      "1650000 yearsD\n",
      "1660000 CartItem\n",
      "1670000 non-crew\n",
      "1680000 charactersKraken\n",
      "1690000 RDRS\n",
      "1700000 thrombopenia\n",
      "1710000 25Best\n",
      "1720000 Geispolsheim\n",
      "1730000 Sen1\n",
      "1740000 7-axis\n",
      "1750000 RoomHotel\n",
      "1760000 Pitt-Greenville\n",
      "1770000 MusicHall\n",
      "1780000 Guanting\n",
      "1790000 Skënderbeu\n",
      "1800000 Röcken\n",
      "1810000 llits13\n",
      "1820000 groupChildren\n",
      "1830000 Possie\n",
      "1840000 1880-1917\n",
      "1850000 fifa55\n",
      "1860000 'Huile\n",
      "1870000 23655\n",
      "1880000 Abandon4093\n",
      "1890000 bgdddymtty\n",
      "1900000 GHR1000\n",
      "1910000 UpWind\n",
      "1920000 Fmj\n",
      "1930000 endocrine-responsive\n",
      "1940000 Comerhi\n",
      "1950000 OSAX\n",
      "1960000 'lld\n",
      "1970000 PokéRinger\n",
      "1980000 Vibaas\n",
      "1990000 Arabika\n"
     ]
    }
   ],
   "source": [
    "i = 0\n",
    "for line in fin:\n",
    "    tokens = line.rstrip().split(' ')\n",
    "    if i % 10000 == 0:\n",
    "        print i, tokens[0]\n",
    "    i += 1"
   ]
  },
  {
   "cell_type": "code",
   "execution_count": 6,
   "metadata": {},
   "outputs": [],
   "source": [
    "# test whether there is the same sort of progressively-decreasing frequency pattern that would allow me to through away garbage words\n",
    "\n",
    "import io\n",
    "\n",
    "data_path = '/Users/jonathansimon/code/what-do-you-call-a-bot/data/crawl-300d-2M.vec'\n",
    "\n",
    "fin = io.open(data_path, 'r', encoding='utf-8', newline='\\n', errors='ignore')\n",
    "n, d = map(int, fin.readline().split())\n",
    "word_array = [line.rstrip().split(' ')[0] for line in fin]"
   ]
  },
  {
   "cell_type": "code",
   "execution_count": 7,
   "metadata": {},
   "outputs": [
    {
     "data": {
      "text/plain": [
       "1034"
      ]
     },
     "execution_count": 7,
     "metadata": {},
     "output_type": "execute_result"
    }
   ],
   "source": [
    "word_array.index('dog')"
   ]
  },
  {
   "cell_type": "code",
   "execution_count": 8,
   "metadata": {},
   "outputs": [
    {
     "data": {
      "text/plain": [
       "559"
      ]
     },
     "execution_count": 8,
     "metadata": {},
     "output_type": "execute_result"
    }
   ],
   "source": [
    "word_array.index('happy')"
   ]
  },
  {
   "cell_type": "code",
   "execution_count": 9,
   "metadata": {},
   "outputs": [
    {
     "data": {
      "text/plain": [
       "45291"
      ]
     },
     "execution_count": 9,
     "metadata": {},
     "output_type": "execute_result"
    }
   ],
   "source": [
    "word_array.index('childless')"
   ]
  },
  {
   "cell_type": "code",
   "execution_count": 10,
   "metadata": {},
   "outputs": [
    {
     "data": {
      "text/plain": [
       "17384"
      ]
     },
     "execution_count": 10,
     "metadata": {},
     "output_type": "execute_result"
    }
   ],
   "source": [
    "word_array.index('obnoxious')"
   ]
  },
  {
   "cell_type": "code",
   "execution_count": 13,
   "metadata": {},
   "outputs": [
    {
     "data": {
      "text/plain": [
       "22605"
      ]
     },
     "execution_count": 13,
     "metadata": {},
     "output_type": "execute_result"
    }
   ],
   "source": [
    "word_array.index('absurdity')"
   ]
  },
  {
   "cell_type": "code",
   "execution_count": 15,
   "metadata": {},
   "outputs": [
    {
     "data": {
      "text/plain": [
       "66381"
      ]
     },
     "execution_count": 15,
     "metadata": {},
     "output_type": "execute_result"
    }
   ],
   "source": [
    "word_array.index('tensor')"
   ]
  },
  {
   "cell_type": "code",
   "execution_count": 21,
   "metadata": {},
   "outputs": [
    {
     "data": {
      "text/plain": [
       "1158855"
      ]
     },
     "execution_count": 21,
     "metadata": {},
     "output_type": "execute_result"
    }
   ],
   "source": [
    "word_array.index('natalist')"
   ]
  },
  {
   "cell_type": "code",
   "execution_count": 23,
   "metadata": {},
   "outputs": [],
   "source": [
    "import gensim\n",
    "MAX_WORDS = 300000\n",
    "# word2vec_model = gensim.models.KeyedVectors.load_word2vec_format(data_path, binary=True, limit=MAX_WORDS)\n",
    "word2vec_model = gensim.models.KeyedVectors.load_word2vec_format(data_path, limit=MAX_WORDS)"
   ]
  },
  {
   "cell_type": "code",
   "execution_count": 24,
   "metadata": {},
   "outputs": [
    {
     "data": {
      "text/plain": [
       "300000"
      ]
     },
     "execution_count": 24,
     "metadata": {},
     "output_type": "execute_result"
    }
   ],
   "source": [
    "len(word2vec_model.vocab)"
   ]
  },
  {
   "cell_type": "code",
   "execution_count": 25,
   "metadata": {},
   "outputs": [],
   "source": [
    "def get_neighbors(grapheme, k=10):\n",
    "    neighbors = list(zip(*word2vec_model.most_similar(positive=[grapheme], topn=k))[0])\n",
    "    neighbor_inds = [word2vec_model.vocab[neighbor].index for neighbor in neighbors]\n",
    "    return zip(neighbors, neighbor_inds)"
   ]
  },
  {
   "cell_type": "code",
   "execution_count": 27,
   "metadata": {},
   "outputs": [
    {
     "data": {
      "text/plain": [
       "[(u'pachyderm', 198447),\n",
       " (u'elephants', 13448),\n",
       " (u'Elephant', 17859),\n",
       " (u'rhinoceros', 74969),\n",
       " (u'rhino', 37936),\n",
       " (u'pachyderms', 250633),\n",
       " (u'hippo', 46891),\n",
       " (u'Elephants', 31701),\n",
       " (u'ELEPHANT', 165244),\n",
       " (u'giraffe', 27435),\n",
       " (u'gorilla', 28481),\n",
       " (u'tiger', 13337),\n",
       " (u'hippopotamus', 95663),\n",
       " (u'mahout', 216179),\n",
       " (u'rhinos', 52458),\n",
       " (u'monkey', 9631),\n",
       " (u'rhinoceroses', 207721),\n",
       " (u'lion', 9789),\n",
       " (u'Pachyderm', 281621),\n",
       " (u'tusk', 95502),\n",
       " (u'donkey', 18178),\n",
       " (u'zebra', 29496),\n",
       " (u'giraffes', 43418),\n",
       " (u'tusks', 67226),\n",
       " (u'elephantine', 175555),\n",
       " (u'animal', 2616),\n",
       " (u'baboon', 66852),\n",
       " (u'tapir', 150443),\n",
       " (u'tigers', 22238),\n",
       " (u'orangutan', 81798),\n",
       " (u'hippos', 61156),\n",
       " (u'leopard', 22691),\n",
       " (u'panda', 30277),\n",
       " (u'lemur', 95768),\n",
       " (u'okapi', 279027),\n",
       " (u'cheetah', 43279),\n",
       " (u'lions', 15227),\n",
       " (u'orang-utan', 285571),\n",
       " (u'antelope', 50433),\n",
       " (u'ellie', 115106),\n",
       " (u'ox', 35802),\n",
       " (u'chimp', 46978),\n",
       " (u'gorillas', 41895),\n",
       " (u'whale', 16055),\n",
       " (u'zoo', 9360),\n",
       " (u'dumbo', 175167),\n",
       " (u'camel', 19384),\n",
       " (u'cow', 8170),\n",
       " (u'unicorn', 24002),\n",
       " (u'monkeys', 12204)]"
      ]
     },
     "execution_count": 27,
     "metadata": {},
     "output_type": "execute_result"
    }
   ],
   "source": [
    "get_neighbors('elephant', k=50)"
   ]
  },
  {
   "cell_type": "code",
   "execution_count": 29,
   "metadata": {},
   "outputs": [
    {
     "data": {
      "text/plain": [
       "[(u'rhinos', 52458),\n",
       " (u'rhinoceros', 74969),\n",
       " (u'Rhino', 25944),\n",
       " (u'Rhinos', 76668),\n",
       " (u'hippo', 46891),\n",
       " (u'warthog', 112847),\n",
       " (u'Rhinoceros', 108150),\n",
       " (u'elephant', 11451),\n",
       " (u'giraffe', 27435),\n",
       " (u'rhinoceroses', 207721),\n",
       " (u'elephants', 13448),\n",
       " (u'pangolin', 168474),\n",
       " (u'cheetah', 43279),\n",
       " (u'tusk', 95502),\n",
       " (u'tusks', 67226),\n",
       " (u'tiger', 13337),\n",
       " (u'pachyderm', 198447),\n",
       " (u'poachers', 50704),\n",
       " (u'antelope', 50433),\n",
       " (u'okapi', 279027),\n",
       " (u'triceratops', 157717),\n",
       " (u'hippopotamus', 95663),\n",
       " (u'baboon', 66852),\n",
       " (u'safari', 19032),\n",
       " (u'pangolins', 203965),\n",
       " (u'anteater', 192123),\n",
       " (u'aardvark', 157752),\n",
       " (u'tapir', 150443),\n",
       " (u'gorilla', 28481),\n",
       " (u'giraffes', 43418),\n",
       " (u'zebra', 29496),\n",
       " (u'jaguar', 56284),\n",
       " (u'Elephant', 17859),\n",
       " (u'tigers', 22238),\n",
       " (u'bison', 32576),\n",
       " (u'lions', 15227),\n",
       " (u'hornbill', 205742),\n",
       " (u'oryx', 179687),\n",
       " (u'panda', 30277),\n",
       " (u'lemur', 95768),\n",
       " (u'warthogs', 169415),\n",
       " (u'lion', 9789),\n",
       " (u'cheetahs', 71070),\n",
       " (u'springbok', 175886),\n",
       " (u'hyena', 66203),\n",
       " (u'buffalo', 20943),\n",
       " (u'horn', 11126),\n",
       " (u'ungulate', 206918),\n",
       " (u'ocelot', 178175),\n",
       " (u'ellie', 115106)]"
      ]
     },
     "execution_count": 29,
     "metadata": {},
     "output_type": "execute_result"
    }
   ],
   "source": [
    "get_neighbors('rhino', k=50)"
   ]
  },
  {
   "cell_type": "code",
   "execution_count": 30,
   "metadata": {},
   "outputs": [
    {
     "data": {
      "text/plain": [
       "[(u'wretched', 25080),\n",
       " (u'Miserable', 85290),\n",
       " (u'unhappy', 9653),\n",
       " (u'MISERABLE', 244502),\n",
       " (u'misery', 10596),\n",
       " (u'dreary', 24582),\n",
       " (u'dismal', 22245),\n",
       " (u'pitiful', 26818),\n",
       " (u'awful', 4997),\n",
       " (u'dreadful', 15736),\n",
       " (u'hopeless', 15145),\n",
       " (u'wretchedly', 176483),\n",
       " (u'joyless', 91471),\n",
       " (u'horrid', 21463),\n",
       " (u'horrible', 3742),\n",
       " (u'pathetic', 9624),\n",
       " (u'unbearable', 22941),\n",
       " (u'cheerless', 156012),\n",
       " (u'pitiable', 98288),\n",
       " (u'crummy', 47796),\n",
       " (u'despondent', 59136),\n",
       " (u'hellish', 38449),\n",
       " (u'gloomy', 20811),\n",
       " (u'lousy', 15647),\n",
       " (u'miserably', 44399),\n",
       " (u'insufferable', 56377),\n",
       " (u'glum', 81211),\n",
       " (u'terrible', 2725),\n",
       " (u'intolerable', 33757),\n",
       " (u'sucky', 51881),\n",
       " (u'morose', 67191),\n",
       " (u'depressing', 12316),\n",
       " (u'worse', 2392),\n",
       " (u'despairing', 53218),\n",
       " (u'unbearably', 86241),\n",
       " (u'bleak', 18844),\n",
       " (u'unpleasant', 13177),\n",
       " (u'unhappiest', 243880),\n",
       " (u'dispiriting', 98918),\n",
       " (u'self-pitying', 126623),\n",
       " (u'shitty', 14327),\n",
       " (u'squalid', 76496),\n",
       " (u'dejected', 56181),\n",
       " (u'wretchedness', 96542),\n",
       " (u'soul-destroying', 165056),\n",
       " (u'depressed', 8008),\n",
       " (u'demoralizing', 63628),\n",
       " (u'loathsome', 54335),\n",
       " (u'listless', 62421),\n",
       " (u'bearable', 40559)]"
      ]
     },
     "execution_count": 30,
     "metadata": {},
     "output_type": "execute_result"
    }
   ],
   "source": [
    "get_neighbors('miserable', k=50)"
   ]
  },
  {
   "cell_type": "code",
   "execution_count": 33,
   "metadata": {},
   "outputs": [
    {
     "data": {
      "text/plain": [
       "[(u'lithe', 62599),\n",
       " (u'curvaceous', 74732),\n",
       " (u'shapely', 59556),\n",
       " (u'portly', 85602),\n",
       " (u'rotund', 92823),\n",
       " (u'sleek', 8977),\n",
       " (u'pudgy', 80846),\n",
       " (u'super-slim', 233885),\n",
       " (u'full-figured', 199933),\n",
       " (u'slender', 18760),\n",
       " (u'voluptuous', 46247),\n",
       " (u'willowy', 129898),\n",
       " (u'big-boned', 231557),\n",
       " (u'rail-thin', 285257),\n",
       " (u'slimmed-down', 192082),\n",
       " (u'slimmer', 37242),\n",
       " (u'skinny', 10209),\n",
       " (u'corpulent', 121939),\n",
       " (u'chubby', 27564),\n",
       " (u'Svelte', 236874),\n",
       " (u'statuesque', 95834),\n",
       " (u'buxom', 89313),\n",
       " (u'broad-shouldered', 159827),\n",
       " (u'well-toned', 269078),\n",
       " (u'slimness', 214862),\n",
       " (u'sinewy', 105682),\n",
       " (u'in-shape', 297857),\n",
       " (u'well-proportioned', 142010),\n",
       " (u'paunchy', 215569),\n",
       " (u'well-muscled', 240265),\n",
       " (u'slim', 8882),\n",
       " (u'comely', 79122),\n",
       " (u'slim-line', 241936),\n",
       " (u'sleekly', 204939),\n",
       " (u'beefy', 39451),\n",
       " (u'curvy', 27317),\n",
       " (u'long-legged', 115153),\n",
       " (u'lanky', 53390),\n",
       " (u'sleeker', 66437),\n",
       " (u'diminutive', 33054),\n",
       " (u'plump', 23478),\n",
       " (u'slimmed', 175972),\n",
       " (u'ultra-slim', 167863),\n",
       " (u'spritely', 166027),\n",
       " (u'beanpole', 275484),\n",
       " (u'podgy', 298223),\n",
       " (u'anorexic', 63439),\n",
       " (u'form-fitting', 78520),\n",
       " (u'body-conscious', 279545),\n",
       " (u'curvier', 157157)]"
      ]
     },
     "execution_count": 33,
     "metadata": {},
     "output_type": "execute_result"
    }
   ],
   "source": [
    "get_neighbors('svelte', k=50)"
   ]
  },
  {
   "cell_type": "code",
   "execution_count": 34,
   "metadata": {},
   "outputs": [
    {
     "data": {
      "text/plain": [
       "[(u'macho', 33044),\n",
       " (u'masculinity', 25165),\n",
       " (u'manliness', 69594),\n",
       " (u'hyper-masculine', 270568),\n",
       " (u'Machismo', 277763),\n",
       " (u'bravado', 41674),\n",
       " (u'maleness', 114865),\n",
       " (u'braggadocio', 137959),\n",
       " (u'alpha-male', 205206),\n",
       " (u'Masculinity', 86599),\n",
       " (u'virility', 87387),\n",
       " (u'chauvinism', 91087),\n",
       " (u'masculinist', 289292),\n",
       " (u'masculine', 14465),\n",
       " (u'tough-guy', 134436),\n",
       " (u'Macho', 74393),\n",
       " (u'manly', 22384),\n",
       " (u'testosterone', 16430),\n",
       " (u'swagger', 32101),\n",
       " (u'swaggering', 83420),\n",
       " (u'chest-thumping', 197811),\n",
       " (u'femininity', 26732),\n",
       " (u'chauvinist', 114911),\n",
       " (u'chauvinistic', 97470),\n",
       " (u'homoeroticism', 219822),\n",
       " (u'cockiness', 116783),\n",
       " (u'muscularity', 157349),\n",
       " (u'flamboyance', 115461),\n",
       " (u'jingoism', 116301),\n",
       " (u'misogyny', 31056),\n",
       " (u'virile', 78479),\n",
       " (u'sexiness', 50654),\n",
       " (u'posturing', 35661),\n",
       " (u'bombast', 80296),\n",
       " (u'unmanly', 141220),\n",
       " (u'manhood', 28038),\n",
       " (u'frat-boy', 260298),\n",
       " (u'beefcake', 134631),\n",
       " (u'masculinities', 172798),\n",
       " (u'effeminacy', 228357),\n",
       " (u'badassery', 139096),\n",
       " (u'assertiveness', 66263),\n",
       " (u'effeminate', 64380),\n",
       " (u'butch', 60525),\n",
       " (u'feminity', 197389),\n",
       " (u'belligerence', 102684),\n",
       " (u'egotism', 79308),\n",
       " (u'male-centric', 254987),\n",
       " (u'masculinized', 281497),\n",
       " (u'patriarchy', 32769)]"
      ]
     },
     "execution_count": 34,
     "metadata": {},
     "output_type": "execute_result"
    }
   ],
   "source": [
    "get_neighbors('machismo', k=50)"
   ]
  },
  {
   "cell_type": "code",
   "execution_count": 35,
   "metadata": {},
   "outputs": [],
   "source": [
    "import gensim\n",
    "\n",
    "data_path2 = '/Users/jonathansimon/code/what-do-you-call-a-bot/data/wiki-news-300d-1M.vec'\n",
    "MAX_WORDS = 300000\n",
    "fast2vec_model2 = gensim.models.KeyedVectors.load_word2vec_format(data_path2, limit=MAX_WORDS)"
   ]
  },
  {
   "cell_type": "code",
   "execution_count": 36,
   "metadata": {},
   "outputs": [],
   "source": [
    "def get_neighbors2(grapheme, k=10):\n",
    "    neighbors = list(zip(*fast2vec_model2.most_similar(positive=[grapheme], topn=k))[0])\n",
    "    neighbor_inds = [fast2vec_model2.vocab[neighbor].index for neighbor in neighbors]\n",
    "    return zip(neighbors, neighbor_inds)"
   ]
  },
  {
   "cell_type": "code",
   "execution_count": 38,
   "metadata": {},
   "outputs": [
    {
     "data": {
      "text/plain": [
       "[(u'elephants', 11771),\n",
       " (u'pachyderm', 191024),\n",
       " (u'Elephant', 18747),\n",
       " (u'rhinoceros', 48767),\n",
       " (u'rhino', 35255),\n",
       " (u'mahout', 231304),\n",
       " (u'pachyderms', 217664),\n",
       " (u'tiger', 12564),\n",
       " (u'Elephants', 39211),\n",
       " (u'lion', 11171),\n",
       " (u'giraffe', 37336),\n",
       " (u'hippo', 60756),\n",
       " (u'rhinos', 41756),\n",
       " (u'gorilla', 26283),\n",
       " (u'tusk', 80925),\n",
       " (u'rhinoceroses', 128242),\n",
       " (u'tusks', 47687),\n",
       " (u'tigers', 18012),\n",
       " (u'mahouts', 266925),\n",
       " (u'lions', 13232),\n",
       " (u'animal', 2275),\n",
       " (u'ivory', 17500),\n",
       " (u'donkey', 23949),\n",
       " (u'hippopotamus', 75327),\n",
       " (u'buffalo', 20041),\n",
       " (u'antelope', 42156),\n",
       " (u'okapi', 197135),\n",
       " (u'camel', 24895),\n",
       " (u'leopard', 27771),\n",
       " (u'monkey', 11922),\n",
       " (u'horse', 2921),\n",
       " (u'pygmy', 50986),\n",
       " (u'antelopes', 87400),\n",
       " (u'dung', 34386),\n",
       " (u'circus', 12368),\n",
       " (u'room', 976),\n",
       " (u'cow', 10221),\n",
       " (u'baboon', 66339),\n",
       " (u'tapir', 107559),\n",
       " (u'mule', 34141),\n",
       " (u'elephantine', 166266),\n",
       " (u'lioness', 83763),\n",
       " (u'anteater', 149276),\n",
       " (u'giraffes', 48691),\n",
       " (u'zoo', 10904),\n",
       " (u'ox', 38916),\n",
       " (u'animals', 1408),\n",
       " (u'mammal', 22208),\n",
       " (u'ostrich', 48558),\n",
       " (u'whale', 12077)]"
      ]
     },
     "execution_count": 38,
     "metadata": {},
     "output_type": "execute_result"
    }
   ],
   "source": [
    "get_neighbors2('elephant', k=50)"
   ]
  },
  {
   "cell_type": "code",
   "execution_count": 51,
   "metadata": {},
   "outputs": [
    {
     "data": {
      "text/plain": [
       "89867"
      ]
     },
     "execution_count": 51,
     "metadata": {},
     "output_type": "execute_result"
    }
   ],
   "source": [
    "fast2vec_model2.vocab['acetaldehyde'].index"
   ]
  },
  {
   "cell_type": "code",
   "execution_count": 52,
   "metadata": {},
   "outputs": [
    {
     "data": {
      "text/plain": [
       "92369"
      ]
     },
     "execution_count": 52,
     "metadata": {},
     "output_type": "execute_result"
    }
   ],
   "source": [
    "word2vec_model.vocab['acetaldehyde'].index"
   ]
  },
  {
   "cell_type": "code",
   "execution_count": 53,
   "metadata": {},
   "outputs": [
    {
     "data": {
      "text/plain": [
       "{u'animals',\n",
       " u'anteater',\n",
       " u'antelopes',\n",
       " u'buffalo',\n",
       " u'circus',\n",
       " u'dung',\n",
       " u'horse',\n",
       " u'ivory',\n",
       " u'lioness',\n",
       " u'mahouts',\n",
       " u'mammal',\n",
       " u'mule',\n",
       " u'ostrich',\n",
       " u'pygmy',\n",
       " u'room'}"
      ]
     },
     "execution_count": 53,
     "metadata": {},
     "output_type": "execute_result"
    }
   ],
   "source": [
    "set(zip(*get_neighbors2('elephant', k=50))[0]) - set(zip(*get_neighbors('elephant', k=50))[0])"
   ]
  },
  {
   "cell_type": "code",
   "execution_count": 54,
   "metadata": {},
   "outputs": [
    {
     "data": {
      "text/plain": [
       "{u'ELEPHANT',\n",
       " u'Pachyderm',\n",
       " u'cheetah',\n",
       " u'chimp',\n",
       " u'dumbo',\n",
       " u'ellie',\n",
       " u'gorillas',\n",
       " u'hippos',\n",
       " u'lemur',\n",
       " u'monkeys',\n",
       " u'orang-utan',\n",
       " u'orangutan',\n",
       " u'panda',\n",
       " u'unicorn',\n",
       " u'zebra'}"
      ]
     },
     "execution_count": 54,
     "metadata": {},
     "output_type": "execute_result"
    }
   ],
   "source": [
    "set(zip(*get_neighbors('elephant', k=50))[0]) - set(zip(*get_neighbors2('elephant', k=50))[0])"
   ]
  },
  {
   "cell_type": "code",
   "execution_count": 58,
   "metadata": {},
   "outputs": [
    {
     "data": {
      "text/plain": [
       "{u'Elephant',\n",
       " u'Elephants',\n",
       " u'animal',\n",
       " u'antelope',\n",
       " u'baboon',\n",
       " u'camel',\n",
       " u'cow',\n",
       " u'donkey',\n",
       " u'elephantine',\n",
       " u'elephants',\n",
       " u'giraffe',\n",
       " u'giraffes',\n",
       " u'gorilla',\n",
       " u'hippo',\n",
       " u'hippopotamus',\n",
       " u'leopard',\n",
       " u'lion',\n",
       " u'lions',\n",
       " u'mahout',\n",
       " u'monkey',\n",
       " u'okapi',\n",
       " u'ox',\n",
       " u'pachyderm',\n",
       " u'pachyderms',\n",
       " u'rhino',\n",
       " u'rhinoceros',\n",
       " u'rhinoceroses',\n",
       " u'rhinos',\n",
       " u'tapir',\n",
       " u'tiger',\n",
       " u'tigers',\n",
       " u'tusk',\n",
       " u'tusks',\n",
       " u'whale',\n",
       " u'zoo'}"
      ]
     },
     "execution_count": 58,
     "metadata": {},
     "output_type": "execute_result"
    }
   ],
   "source": [
    "set(zip(*get_neighbors('elephant', k=50))[0]) & set(zip(*get_neighbors2('elephant', k=50))[0])"
   ]
  },
  {
   "cell_type": "code",
   "execution_count": 59,
   "metadata": {},
   "outputs": [
    {
     "data": {
      "text/plain": [
       "68"
      ]
     },
     "execution_count": 59,
     "metadata": {},
     "output_type": "execute_result"
    }
   ],
   "source": [
    "len(set(zip(*get_neighbors('elephant', k=100))[0]) & set(zip(*get_neighbors2('elephant', k=100))[0]))"
   ]
  },
  {
   "cell_type": "code",
   "execution_count": 62,
   "metadata": {},
   "outputs": [
    {
     "data": {
      "text/plain": [
       "{u'annoying',\n",
       " u'arrogant',\n",
       " u'belligerent',\n",
       " u'boorish',\n",
       " u'condescending',\n",
       " u'crass',\n",
       " u'idiotic',\n",
       " u'ill-mannered',\n",
       " u'inane',\n",
       " u'inconsiderate',\n",
       " u'insufferable',\n",
       " u'irksome',\n",
       " u'irritating',\n",
       " u'loud-mouthed',\n",
       " u'odious',\n",
       " u'overbearing',\n",
       " u'pompous',\n",
       " u'pretentious',\n",
       " u'rude',\n",
       " u'sanctimonious',\n",
       " u'self-important',\n",
       " u'smarmy'}"
      ]
     },
     "execution_count": 62,
     "metadata": {},
     "output_type": "execute_result"
    }
   ],
   "source": [
    "set(zip(*get_neighbors('obnoxious', k=50))[0]) & set(zip(*get_neighbors2('obnoxious', k=50))[0])"
   ]
  },
  {
   "cell_type": "code",
   "execution_count": 63,
   "metadata": {},
   "outputs": [
    {
     "data": {
      "text/plain": [
       "{u'ANNOYING',\n",
       " u'Annoying',\n",
       " u'Obnoxious',\n",
       " u'annoyingly',\n",
       " u'bitchy',\n",
       " u'bratty',\n",
       " u'dickish',\n",
       " u'douchey',\n",
       " u'douchy',\n",
       " u'insufferably',\n",
       " u'irritatingly',\n",
       " u'loud',\n",
       " u'loudmouth',\n",
       " u'loudmouthed',\n",
       " u'obnoxiously',\n",
       " u'obnoxiousness',\n",
       " u'obstreperous',\n",
       " u'obtrusive',\n",
       " u'over-bearing',\n",
       " u'pushy',\n",
       " u'screechy',\n",
       " u'self-absorbed',\n",
       " u'self-righteous',\n",
       " u'shrill',\n",
       " u'snobby',\n",
       " u'snotty',\n",
       " u'stuck-up',\n",
       " u'whiny'}"
      ]
     },
     "execution_count": 63,
     "metadata": {},
     "output_type": "execute_result"
    }
   ],
   "source": [
    "set(zip(*get_neighbors('obnoxious', k=50))[0]) - set(zip(*get_neighbors2('obnoxious', k=50))[0])"
   ]
  },
  {
   "cell_type": "code",
   "execution_count": 64,
   "metadata": {},
   "outputs": [
    {
     "data": {
      "text/plain": [
       "{u'abusive',\n",
       " u'bothersome',\n",
       " u'contemptible',\n",
       " u'contemptuous',\n",
       " u'despicable',\n",
       " u'disagreeable',\n",
       " u'disgusting',\n",
       " u'distasteful',\n",
       " u'foul-mouthed',\n",
       " u'hateful',\n",
       " u'hypocritical',\n",
       " u'loathsome',\n",
       " u'mean-spirited',\n",
       " u'moronic',\n",
       " u'nasty',\n",
       " u'nauseating',\n",
       " u'objectionable',\n",
       " u'off-putting',\n",
       " u'repugnant',\n",
       " u'repulsive',\n",
       " u'silly',\n",
       " u'stupid',\n",
       " u'tiresome',\n",
       " u'troublesome',\n",
       " u'ugly',\n",
       " u'unpleasant',\n",
       " u'vile',\n",
       " u'vulgar'}"
      ]
     },
     "execution_count": 64,
     "metadata": {},
     "output_type": "execute_result"
    }
   ],
   "source": [
    "set(zip(*get_neighbors2('obnoxious', k=50))[0]) - set(zip(*get_neighbors('obnoxious', k=50))[0])"
   ]
  },
  {
   "cell_type": "code",
   "execution_count": 65,
   "metadata": {},
   "outputs": [
    {
     "data": {
      "text/plain": [
       "{u'acorn',\n",
       " u'almond',\n",
       " u'banana',\n",
       " u'caramel',\n",
       " u'cherries',\n",
       " u'citrus',\n",
       " u'fruits',\n",
       " u'gooseberry',\n",
       " u'grape',\n",
       " u'guava',\n",
       " u'juice',\n",
       " u'kumquat',\n",
       " u'lemon',\n",
       " u'mango',\n",
       " u'orange',\n",
       " u'passionfruit',\n",
       " u'peaches',\n",
       " u'pie',\n",
       " u'pineapple',\n",
       " u'plum',\n",
       " u'plums',\n",
       " u'pome',\n",
       " u'raspberry',\n",
       " u'strudel',\n",
       " u'tomato',\n",
       " u'tree'}"
      ]
     },
     "execution_count": 65,
     "metadata": {},
     "output_type": "execute_result"
    }
   ],
   "source": [
    "set(zip(*get_neighbors2('apple', k=50))[0]) - set(zip(*get_neighbors('apple', k=50))[0])"
   ]
  },
  {
   "cell_type": "code",
   "execution_count": 66,
   "metadata": {},
   "outputs": [
    {
     "data": {
      "text/plain": [
       "{u'APPLE',\n",
       " u'APPLES',\n",
       " u'Honeycrisp',\n",
       " u'android',\n",
       " u'apple.',\n",
       " u'apple.com',\n",
       " u'applesauce',\n",
       " u'calvados',\n",
       " u'cinnamon',\n",
       " u'ibooks',\n",
       " u'icloud',\n",
       " u'imac',\n",
       " u'ios',\n",
       " u'ios7',\n",
       " u'ipad',\n",
       " u'iphone4',\n",
       " u'iphone5',\n",
       " u'iphones',\n",
       " u'ipod',\n",
       " u'macintosh',\n",
       " u'osx',\n",
       " u'pecan',\n",
       " u'persimmon',\n",
       " u'pomegranate',\n",
       " u'tangerine',\n",
       " u'tart'}"
      ]
     },
     "execution_count": 66,
     "metadata": {},
     "output_type": "execute_result"
    }
   ],
   "source": [
    "set(zip(*get_neighbors('apple', k=50))[0]) - set(zip(*get_neighbors2('apple', k=50))[0])"
   ]
  },
  {
   "cell_type": "code",
   "execution_count": 67,
   "metadata": {},
   "outputs": [
    {
     "data": {
      "text/plain": [
       "{u'Apple',\n",
       " u'Apples',\n",
       " u'Pear',\n",
       " u'adam',\n",
       " u'apples',\n",
       " u'apricot',\n",
       " u'berry',\n",
       " u'blackberry',\n",
       " u'blueberry',\n",
       " u'cherry',\n",
       " u'cider',\n",
       " u'clementine',\n",
       " u'crabapple',\n",
       " u'fruit',\n",
       " u'iphone',\n",
       " u'nectarine',\n",
       " u'oranges',\n",
       " u'orchard',\n",
       " u'orchards',\n",
       " u'peach',\n",
       " u'pear',\n",
       " u'pears',\n",
       " u'pomme',\n",
       " u'strawberry'}"
      ]
     },
     "execution_count": 67,
     "metadata": {},
     "output_type": "execute_result"
    }
   ],
   "source": [
    "set(zip(*get_neighbors('apple', k=50))[0]) & set(zip(*get_neighbors2('apple', k=50))[0])"
   ]
  },
  {
   "cell_type": "code",
   "execution_count": 68,
   "metadata": {},
   "outputs": [
    {
     "data": {
      "text/plain": [
       "{u'AAPL',\n",
       " u'APPLE',\n",
       " u'Apple.com',\n",
       " u'AppleInsider',\n",
       " u'Apples',\n",
       " u'Cupertino',\n",
       " u'MacBook',\n",
       " u'MacBooks',\n",
       " u'MacOS',\n",
       " u'Macintosh',\n",
       " u'Macs',\n",
       " u'Macworld',\n",
       " u'MobileMe',\n",
       " u'Samsung',\n",
       " u'WWDC',\n",
       " u'Woz',\n",
       " u'apple',\n",
       " u'apple.com',\n",
       " u'iCloud',\n",
       " u'iMac',\n",
       " u'iMacs',\n",
       " u'iOS',\n",
       " u'iPad',\n",
       " u'iPhone',\n",
       " u'iPhones',\n",
       " u'non-Apple'}"
      ]
     },
     "execution_count": 68,
     "metadata": {},
     "output_type": "execute_result"
    }
   ],
   "source": [
    "set(zip(*get_neighbors('Apple', k=50))[0]) & set(zip(*get_neighbors2('Apple', k=50))[0])"
   ]
  },
  {
   "cell_type": "code",
   "execution_count": null,
   "metadata": {},
   "outputs": [],
   "source": []
  }
 ],
 "metadata": {
  "kernelspec": {
   "display_name": "Python 2",
   "language": "python",
   "name": "python2"
  },
  "language_info": {
   "codemirror_mode": {
    "name": "ipython",
    "version": 2
   },
   "file_extension": ".py",
   "mimetype": "text/x-python",
   "name": "python",
   "nbconvert_exporter": "python",
   "pygments_lexer": "ipython2",
   "version": "2.7.10"
  }
 },
 "nbformat": 4,
 "nbformat_minor": 2
}

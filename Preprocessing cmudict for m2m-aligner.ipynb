{
 "cells": [
  {
   "cell_type": "code",
   "execution_count": 40,
   "metadata": {},
   "outputs": [
    {
     "data": {
      "text/html": [
       "<style>.container { width:95% !important; }</style>"
      ],
      "text/plain": [
       "<IPython.core.display.HTML object>"
      ]
     },
     "metadata": {},
     "output_type": "display_data"
    }
   ],
   "source": [
    "from IPython.core.display import display, HTML\n",
    "display(HTML(\"<style>.container { width:95% !important; }</style>\"))"
   ]
  },
  {
   "cell_type": "markdown",
   "metadata": {},
   "source": [
    "For every word in the CMU-pronounciation dict:\n",
    "1. downcase\n",
    "2. associate with its first pronounciation match, with emphases stripped\n",
    "3. contruct input file of the form: `\"letter_1\\sletter_2\\s...letter_n\\tphone_1\\sphone_2\\s...phone_m\"`"
   ]
  },
  {
   "cell_type": "code",
   "execution_count": 2,
   "metadata": {},
   "outputs": [],
   "source": [
    "import nltk\n",
    "\n",
    "cmu_dict = nltk.corpus.cmudict.dict()"
   ]
  },
  {
   "cell_type": "code",
   "execution_count": 4,
   "metadata": {},
   "outputs": [
    {
     "data": {
      "text/plain": [
       "123455"
      ]
     },
     "execution_count": 4,
     "metadata": {},
     "output_type": "execute_result"
    }
   ],
   "source": [
    "len(cmu_dict)"
   ]
  },
  {
   "cell_type": "code",
   "execution_count": 34,
   "metadata": {},
   "outputs": [],
   "source": [
    "# took ~6sec to run ~1k pairs, therefore to run ~100k pairs will take ~600sec = 10min\n",
    "\n",
    "with open('data/m2m_preprocessed_cmudict.txt', 'w') as outfile:\n",
    "    for word, phoneme_list in cmu_dict.iteritems():\n",
    "        # leave in nonalpha characters, the aligner can handle it\n",
    "        # also don't need to downcase, because all words in cmudict are already downcased\n",
    "        clean_phoneme = [filter(str.isalpha, str(phone)) for phone in phoneme_list[0]]\n",
    "        outfile.write(' '.join(word) + '\\t' + ' '.join(clean_phoneme) + '\\n')"
   ]
  },
  {
   "cell_type": "code",
   "execution_count": 43,
   "metadata": {},
   "outputs": [
    {
     "name": "stdout",
     "output_type": "stream",
     "text": [
      "w's\n",
      "a42128\n",
      "c3\n",
      "c5\n",
      "c4\n",
      "jr\n",
      "m1\n",
      "m3\n",
      "mr\n",
      "ltd\n",
      "st\n",
      "se\n",
      "n92762\n",
      "m5\n",
      "m4\n",
      "w.s\n",
      "dwi\n",
      "etc\n",
      "feb\n",
      "nov\n",
      "cxc\n",
      "dfw\n",
      "rep.\n",
      "wm\n",
      "kwh\n",
      "aaa\n",
      "vs\n",
      "w\n",
      "c1\n",
      "x\n",
      "q\n",
      "sr\n",
      "w.\n",
      "ws\n",
      "bbq\n"
     ]
    }
   ],
   "source": [
    "# run m2m-aligner in command line...\n",
    "\n",
    "# failed to align 35 words out of the total set of 100k, I'd say that's pretty good\n",
    "# especially considering that the failures are extreme edge-cases of written english\n",
    "\n",
    "with open('data/m2m_preprocessed_cmudict.txt.m-mAlign.2-2.delX.1-best.conYX.align.err') as infile:\n",
    "    failed_words = [line.strip().split('\\t')[0].replace(' ','') for line in infile.readlines()]\n",
    "\n",
    "print '\\n'.join(failed_words)"
   ]
  },
  {
   "cell_type": "code",
   "execution_count": 44,
   "metadata": {},
   "outputs": [],
   "source": [
    "# aligns pairs use the following syntax:\n",
    "# 1) chunked graphemes/phonemes are divided by '|' symbols\n",
    "# 2) two graphemes/phonemes which are chunked together in a mapping will be separated by a ':'\n",
    "# 3) graphemes mapping to null-phonemes are denoted by '_'\n",
    "\n",
    "with open('data/m2m_preprocessed_cmudict.txt.m-mAlign.2-2.delX.1-best.conYX.align') as infile:\n",
    "    aligned_word_phoneme_pairs = [line.strip().split('\\t') for line in infile.readlines()]"
   ]
  },
  {
   "cell_type": "code",
   "execution_count": null,
   "metadata": {},
   "outputs": [],
   "source": [
    "# two separate issues here:\n",
    "# 1) finding grapheme from phoneme, and visa-versa\n",
    "# 2) finding alignment from, given that we already have the grapheme/phoneme\n",
    "# \n",
    "# don't worry about the first part, just focus on the second part"
   ]
  },
  {
   "cell_type": "code",
   "execution_count": null,
   "metadata": {},
   "outputs": [],
   "source": [
    "# what are we doing with this data?\n",
    "# want a data structure which makes, given a grapheme+phoneme, and the inds of a subphoneme, we can easily return the corresponding inds of the subgrapheme,\n",
    "# and visa-versa\n",
    "\n",
    "# Alignment.grapheme_to_phoneme(grapheme) --> phoneme\n",
    "# grapheme_to_alignment\n",
    "# Alignment.grapheme_to_alignment(grapheme) --> alignment tuple list\n",
    "# Alignment.subgrapheme_to_subphoneme(grapheme, i1, i2) --> subphoneme\n",
    "# Alignment.subphoneme_to_subgraphene(phoneme, i1, i2) --> subgrapheme\n",
    "\n",
    "class \n",
    "\n",
    "class GraphemePhonemeAlignment(object):\n",
    "    def __init__(grapheme, phoneme, aligned_pairs):\n",
    "        '''\n",
    "        'alignment' is a list of (graph,phone) pairs, where either entry may contain a double-graph/phone, and where the phone may be None\n",
    "        '''\n",
    "        self.grapheme = grapheme\n",
    "        self.phoneme = phoneme\n",
    "        self.aligned_pairs = aligned_pairs\n",
    "    \n",
    "    def Alignment.subphoneme_to_subgrapheme(phone_i1, phone_i2):\n",
    "        '''\n",
    "        Given the a pair of (inclusive) phone indexes, find the grapheme that corresponds to that phoneme\n",
    "        \n",
    "        If the index lands in the middle of a double-phoneme, then DO return the entire accompanying grapheme\n",
    "        '''\n",
    "        if phone_i1 < 0 or phone_i1 >= len(self.phoneme) or phone_i2 < 0 or phone_i2 >= len(self.phoneme) or phone_i2 < phone_i1:\n",
    "            raise Exception('Indices are not permissible')\n",
    "        \n",
    "        subgrapheme = ''\n",
    "        subphoneme_idx = 0\n",
    "        for graph,phone in aligned_pairs:\n",
    "            if subphoneme_idx > phone_i2:\n",
    "                break\n",
    "            \n",
    "            # null-phone\n",
    "            if phone == '_':\n",
    "                continue\n",
    "            \n",
    "            \n",
    "            \n",
    "            # is double-phone\n",
    "            if ':' in phone:\n",
    "                subphoneme_idx += 2\n",
    "            # is not null-phone\n",
    "            elif :\n",
    "                subphoneme_idx += 1\n",
    "        \n",
    "        return subgrapheme"
   ]
  },
  {
   "cell_type": "code",
   "execution_count": 3,
   "metadata": {},
   "outputs": [
    {
     "name": "stdout",
     "output_type": "stream",
     "text": [
      ":colon\n"
     ]
    }
   ],
   "source": [
    "for g in cmu_dict:\n",
    "    if ':' in g: print g"
   ]
  },
  {
   "cell_type": "code",
   "execution_count": null,
   "metadata": {},
   "outputs": [],
   "source": []
  }
 ],
 "metadata": {
  "kernelspec": {
   "display_name": "Python 2",
   "language": "python",
   "name": "python2"
  },
  "language_info": {
   "codemirror_mode": {
    "name": "ipython",
    "version": 2
   },
   "file_extension": ".py",
   "mimetype": "text/x-python",
   "name": "python",
   "nbconvert_exporter": "python",
   "pygments_lexer": "ipython2",
   "version": "2.7.10"
  }
 },
 "nbformat": 4,
 "nbformat_minor": 2
}
